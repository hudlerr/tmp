{
 "cells": [
  {
   "cell_type": "markdown",
   "metadata": {},
   "source": [
    "<span style=\"display:block;text-align:center;margin-right:105px\"></span>\n",
    "\n",
    "# Blockchain based ROSCA - version 1\n",
    "---\n",
    "\n",
    "* [System Requirements (Part 1)](#System-Requirements)\n",
    "  * [Model Introduction](#Model-Introduction)\n",
    "  * [cadCad Overview](#cadCad-Overview)\n",
    "  * [Requirements Analysis](#Requirements-Analysis)\n",
    "  * [Visual System Mapping: Entity Relationship Diagram](#Visual-System-Mapping:-Entity-Relationship-Diagram)\n",
    "  * [Visual System Mapping: Stock & Flow Diagram](#Visual-System-Mapping:-Stock-&-Flow-Diagram)\n",
    "  * [Mathematical Specification](#Mathematical-Specification)\n",
    "* [System Design (Part 2)](#System-Design)\n",
    "  * [Differential Specification](#Differential-Specification)\n",
    "  * [cadCAD Standard Notebook Layout](#cadCAD-Standard-Notebook-Layout)\n",
    "    0. [Dependencies](#0.-Dependencies)\n",
    "    1. [State Variables](#1.-State-Variables)\n",
    "    2. [System Parameters](#2.-System-Parameters)\n",
    "    3. [Policy Functions](#3.-Policy-Functions)\n",
    "    4. [State Update Functions](#4.-State-Update-Functions)\n",
    "    5. [Partial State Update Blocks](#5.-Partial-State-Update-Blocks)\n",
    "    6. [Configuration](#6.-Configuration)\n",
    "    7. [Execution](#7.-Execution)\n",
    "    8. [Simulation Output Preparation](#8.-Simulation-Output-Preparation)\n",
    "    9. [Simulation Analysis](#9.-Simulation-Analysis)\n",
    "* [System Validation (Part 3)](#System-Validation)\n",
    "    * [Model Limitations](#Model-Limitations)\n",
    "    * [Model Improvements](#Model-Improvements)\n",
    "---\n",
    "\n",
    "# System Requirements\n",
    "\n",
    "## Model Introduction\n",
    "> ROSCAs are informal saving and credit institutions, whereby members pool together regular savings with are then dispersed to a member, either by random or based on the greatest need. This continues until every member has received the pot. \n",
    "\n",
    "ROSCAs are traditionally operated in small group within communities. I have found ROSCAs stand to be improved using blockchain technology - my review has demonstrated that blockchain technology certainly has the potential to create a more democratic, transparent truly peer-to-peer system. This has been proven by groups such as <a href=\"https://tlc.wetrust.io/\">WeTRUST</a> who are attempting to: `\"Create a blockchain-based Lending Circle dApp promoting financial inclusion and lay the groundwork for new financial tools for unbanked and underserved people throughout the world.\"` \n",
    "\n",
    "Having explored the profound social and economic implications of decentralized ledger technologies on ROSCAs, there is an implied pressing need for sustainable system design, which brings us to cadCad (complex adaptive dynamics Computer-aided design) which helps in designing, optimising, validating and understanding trivially non-complex, dynamical systems.\n",
    "\n",
    "## cadCad Overview\n",
    "cadCAD: Python library, assisting in the process of designing, testing and validating complex/economic systems through simulation. Allows you to ask powerful 'what-if' questions about your system, using simulation features such as A/B tests, parameter sweeps and Monte-Carlo analysis. \n",
    "\n",
    "These 'what-if' questions can concern system internal factors (eg. agent behaviours, system parameters) or system external factors (eg. market conditions, competitive activity). cadCad can model systems with various levels of abstractions from micro-level agent modelling to macro-level system dynamics.\n",
    "\n",
    "\n",
    "## Requirements Analysis\n",
    "Our goal for version 1 is to get an initial ROSCA circle running in a cadCad simulation environment. \n",
    "In this notebook, we want to: \n",
    "1. Present the dynamics of a single 'trusted' ROSCA circle on a peer-to-peer decentralised network where agents share a common view of the chain \n",
    "2. Define simple strategies for agents to: intiate intial ROSCA circle, be set a contribution amount set by initiator, be allocated the pot in a random order\n",
    "3. Understand the basic space of decision making of players in the protocol\n",
    "\n",
    "With this information, hopefully having demonstrated we can, in fact, reach our goal of `a fair, democratic, decentralised model solution of ROSCA`, we can build off of this version to implement:\n",
    "1. Neccessary mechanisms eg: voting, borrowing \n",
    "2. Design incentives\n",
    "3. Implement two types of circles (trusted & non-trusted)\n",
    "4. Understand how agent behaviours map to the incentives (rewards, penaties, general outcomes)\n",
    "5. Produce rich agent-based models\n",
    "\n",
    "### Questions\n",
    "1. What sort of mechanisms/incentives would we need to ensure agents participate in a way that fufils the systems goals\n",
    "2. What are the penalties to deincentivise dishonest behaviour\n",
    "3. What information is available to agents when their decisions are made\n",
    "\n",
    "\n",
    "## Visual System Mapping: Entity Relationship Diagram\n",
    "\n",
    "<!-- ![Entity Relationship diagram](images/entity.png) -->\n",
    "<img src=\"images/entity.png\">\n",
    "\n",
    "At its simplest, the system allows for two core actions: `a participant contributing to the pool`, and `a participant receiving from the pool`. This takes into account a participants standing within the circle.\n",
    "\n",
    "## Visual System Mapping: Stock & Flow Diagram\n",
    "\n",
    "![Stock & Flow Diagram](./images/stockflow.png)\n",
    "\n",
    "Represents and encodes the mathematical structure of a model. We identify a single stock, money pool, which gets its input from the source c, contributions from members and has a sink a, allocating to a participant in a given month.\n",
    "\n",
    "## Mathematical Specification\n",
    "\n",
    "![Math Spec](./images/spec.png)\n",
    "\n",
    "The above differential equation gives a more formal mathematical representation of the 'money pool' physical quantity. The money in the pool at a given timestep, t is equal to the amount in the previous timestep, add c, the total sum of monthly agent contribution amount, minus a, the the amount allocated to agent (their monthly contribution * duration) \n",
    "\n",
    "---\n",
    "\n",
    "# System Design\n",
    "\n",
    "## Differential Specification\n",
    "\n",
    "![Differential Spec](./images/diff.png)\n",
    "\n",
    "In the cadCAD simulation methodology, we operate on four layers: Policies, Mechanisms, States, and Metrics. \n",
    "* Policies determine the inputs into the system dynamics, and can come from user input, observations from the exogenous environment, or algorithms. \n",
    "* Mechanisms are functions that take the policy decisions and update the States to reflect the policy level changes.\n",
    "* States are variables that represent the system quantities at the given point in time \n",
    "* Metrics are computed from state variables to assess the health of the system. Metrics can often be thought of as KPIs, or Key Performance Indicators.\n",
    "\n",
    "## cadCAD Standard Notebook Layout\n",
    "<center>\n",
    "<img src=\"./images/cadcad-flow.png\"\n",
    "     alt=\"cadCAD flow\"\n",
    "     style=\"width: 25%;\" />\n",
    "</center>\n",
    "\n",
    "# 0. Dependencies"
   ]
  },
  {
   "cell_type": "code",
   "execution_count": 1,
   "metadata": {},
   "outputs": [],
   "source": [
    "# Standard libraries: https://docs.python.org/3/library/\n",
    "import math\n",
    "import secrets\n",
    "import random\n",
    "\n",
    "# Analysis and plotting modules\n",
    "import pandas as pd\n",
    "import numpy as np\n",
    "\n",
    "# Logic\n",
    "import secrets\n",
    "import base_blockchain\n",
    "from agents import (AgentData, update_contribution_amount, verify_allocated_amount, get_monthly_default_count)\n",
    "from circle import (initialise_circle_state, update_circle_state, get_total_active_balance, get_total_montly_contribution)\n",
    "from chain import(create_block)\n",
    "from utils import (pounds_to_eth, eth_to_pounds)"
   ]
  },
  {
   "cell_type": "code",
   "execution_count": 2,
   "metadata": {},
   "outputs": [],
   "source": [
    "# cadCAD configuration modules\n",
    "from cadCAD.configuration.utils import config_sim\n",
    "from cadCAD.configuration import Experiment\n",
    "\n",
    "# cadCAD simulation engine modules\n",
    "from cadCAD.engine import ExecutionMode, ExecutionContext\n",
    "from cadCAD.engine import Executor\n",
    "\n",
    "blockchain = base_blockchain.BlockChain()"
   ]
  },
  {
   "cell_type": "markdown",
   "metadata": {},
   "source": [
    "# 1. State Variables"
   ]
  },
  {
   "cell_type": "markdown",
   "metadata": {},
   "source": [
    "> A state variable is one of the set of variables that are used to describe the mathematical \"state\" of a dynamical system. ([Wikipedia](https://en.wikipedia.org/wiki/State_variable))"
   ]
  },
  {
   "cell_type": "markdown",
   "metadata": {},
   "source": [
    "### Genesis state and genesis block\n",
    "Dynamical systems are usually rather compact to define. We need at the very least two things:\n",
    "1. Some initial state.\n",
    "2. The dynamics, or how state evolves over time.\n",
    "\n",
    "In this part we'll focus on the intial state. \n",
    "We'll create a genesis state, with 10 participants who each are set to pay 0.21 ETH (£300) into the money pool for a set term of 10 months, using a randomised turn system."
   ]
  },
  {
   "cell_type": "code",
   "execution_count": 3,
   "metadata": {},
   "outputs": [],
   "source": [
    "# Create an array of `AgentData` objects\n",
    "def get_initial_deposits(n):\n",
    "    agent = [AgentData(secrets.token_bytes(48), pounds_to_eth(300), i, 0, False, 0, False)\n",
    "             for i in range(n)]\n",
    "    return agent"
   ]
  },
  {
   "cell_type": "code",
   "execution_count": 4,
   "metadata": {},
   "outputs": [
    {
     "name": "stdout",
     "output_type": "stream",
     "text": [
      "New ROSCA circle created - Hudas saving circle :)\n"
     ]
    }
   ],
   "source": [
    "# intialise a rosca circle \n",
    "circle_ = initialise_circle_state(\"Hudas saving circle :)\", get_initial_deposits(10))"
   ]
  },
  {
   "cell_type": "code",
   "execution_count": 5,
   "metadata": {},
   "outputs": [
    {
     "name": "stdout",
     "output_type": "stream",
     "text": [
      "Added block: 1, hash - 6a03995b525180f6334595fb6306448ebeb7788f604a07b7780b4e9c2f09f0aa, prev_hash - d6d8caf9c005f74200ab5b1f6499fb80d74631f41c0d56854297f8e8e0632b96, timestep - 0\n"
     ]
    }
   ],
   "source": [
    "# create initial block for the groups blockchain\n",
    "genesis_state = create_block(circle_)"
   ]
  },
  {
   "cell_type": "markdown",
   "metadata": {},
   "source": [
    "\n",
    "![Code Layout](images/layout.png)\n",
    "Now we have created our rosca circle, and have processed a genesis block, with the code workflow above for clarity. Finally, we set the genesis state as the initial condition to our cadCAD execution"
   ]
  },
  {
   "cell_type": "code",
   "execution_count": 6,
   "metadata": {},
   "outputs": [],
   "source": [
    "initial_conditions = {\n",
    "    'pool_state': genesis_state\n",
    "}"
   ]
  },
  {
   "cell_type": "markdown",
   "metadata": {},
   "source": [
    "## **Time** as a system state\n",
    "* 1 **timestep** == 1 month"
   ]
  },
  {
   "cell_type": "markdown",
   "metadata": {},
   "source": [
    "# 2. System Parameters\n",
    "> System parameterization is the process of choosing variables that impact the behaviour of the model. These parameters allow us to perform simulation techniques like parameter sweeps, Monte Carlo simulations, A/B tests, and see how the system behaves under a different model parameter set."
   ]
  },
  {
   "cell_type": "code",
   "execution_count": 7,
   "metadata": {},
   "outputs": [
    {
     "data": {
      "text/plain": [
       "{'duration': [10]}"
      ]
     },
     "execution_count": 7,
     "metadata": {},
     "output_type": "execute_result"
    }
   ],
   "source": [
    "system_params = {\n",
    "    'duration': [10], # duration of rosca circle\n",
    "}\n",
    "system_params"
   ]
  },
  {
   "cell_type": "markdown",
   "metadata": {},
   "source": [
    "# 3. Policy Functions\n",
    "\n",
    "> A Policy Function computes one or more signals to be passed to State Update Functions. They describe the logic  and behaviour of a system component  or mechanism."
   ]
  },
  {
   "cell_type": "markdown",
   "metadata": {},
   "source": [
    "#### In our differential specification, we identified two policies: \n",
    "1. A system decision - a monthly collection from agents \n",
    "2. A player decision - the decision to contribute the amount set out\n",
    "Given a player decision we can distinguish between the default honest agent who pays their monthly contribution, and a randomised dishonest agent who doesn't contribute their monthly amount"
   ]
  },
  {
   "cell_type": "code",
   "execution_count": 8,
   "metadata": {},
   "outputs": [],
   "source": [
    "# player decision\n",
    "def randomised_agent_contribution(agent, amount):\n",
    "    if random.random() < 0.1: # 10% chance player will default\n",
    "        agent.defaulted = True\n",
    "        print(\"Agent defaulted. Amount: \" + str(amount))\n",
    "        return False\n",
    "    else :\n",
    "        agent.defaulted = False\n",
    "        return True"
   ]
  },
  {
   "cell_type": "markdown",
   "metadata": {},
   "source": [
    "We now define the policy function, again using the arguments that the cadCAD environment gives us. In this simulation, we'll assume that there is a 10% chance of an agent defaulting."
   ]
  },
  {
   "cell_type": "code",
   "execution_count": 9,
   "metadata": {},
   "outputs": [],
   "source": [
    "# system policy - initate monthly contributions\n",
    "def p_intitiate_monthly_deposits(params, substep, state_history, previous_state):\n",
    "    month_sum = 0.0\n",
    "    pool = previous_state['pool_state']\n",
    "    block_agent_data = pool.data[0]['data']\n",
    "    \n",
    "    print(\"\\n\" + \"STARTING ROSCA MONTH \" + str(pool.data[0]['timestep']))\n",
    "    \n",
    "    # for each agent add their monthly contribution to the collected pool\n",
    "    for x in range(0, len(block_agent_data)):\n",
    "        agent_contribution = eth_to_pounds(block_agent_data[x].amount)\n",
    "\n",
    "        # player decision\n",
    "        if(randomised_agent_contribution(block_agent_data[x], agent_contribution) == True):\n",
    "            month_sum += agent_contribution # c - from differential eq\n",
    "            block_agent_data[x].contributed_amt += agent_contribution # update agent contributed amount\n",
    "    print(\"Total deposited amount: GBP\" + str(month_sum))\n",
    "    return {'collected_amount': month_sum}   # todo: validate sum at later stage"
   ]
  },
  {
   "cell_type": "markdown",
   "metadata": {},
   "source": [
    "# 4. State Update Functions\n",
    "> We create State Update Functions to design the way our model state changes over time. These will usually represent the system differential specification.\n",
    "\n",
    "```python\n",
    "def state_update_function(params, substep, state_history, previous_state, policy_input):\n",
    "    variable_value = 0\n",
    "    return 'variable_name', variable_value\n",
    "```\n",
    "\n",
    "* `params` is a Python dictionary containing the **system parameters** <!-- for consistency with the previous definition -->\n",
    "* `substep` is an integer value representing a step within a single `timestep`\n",
    "* `state_history` is a Python list of all previous states\n",
    "* `previous_state` is a Python dictionary that defines what the state of the system was at the **previous timestep** or **substep**\n",
    "* `policy_input` is a Python dictionary of signals or actions from **policy functions**"
   ]
  },
  {
   "cell_type": "markdown",
   "metadata": {},
   "source": [
    "### State evolution with block proposals\n",
    "We can now move on to defining the dynamics. Simple dynamical systems follow some rules to update their state, e.g., the orbits of planets are given by laws derived from attraction. More complex systems are controlled: decisions made by agents in the system influence the state evolution.\n",
    "\n",
    "In our setting, these agents are ROSCA participants. State evolution is governed by the rules set out by the system, while participants get to decide on putting in a transaction or defaulting. The resulting state is a combination of agent decisions and state updates. How participants make these decisions is embodied by policy functions: given a state, make a decision.\n",
    "\n",
    "At the start of the process, the `genesis_state` defined above is `M(t-1)`, to update the state of the moneypool to `M(t)` we need to calculate `c - the amount collected from agents` and `α - the amount which is allocated`. Having defined the system policy for intiating monthly collections, we break the following actions into 2 steps:"
   ]
  },
  {
   "cell_type": "markdown",
   "metadata": {},
   "source": [
    "#### 1. Allocate pool to agent according to standing within the circle "
   ]
  },
  {
   "cell_type": "code",
   "execution_count": 10,
   "metadata": {},
   "outputs": [],
   "source": [
    "# Allocate to agent according to standing\n",
    "def allocate_pool(genesis_state, timestep, duration, p_collected_amt):\n",
    "    block_agent_data = genesis_state.data[0]['data']\n",
    "    pool_amount = p_collected_amt\n",
    "\n",
    "    for x in range(0, len(block_agent_data)):\n",
    "        if(block_agent_data[x].standing == timestep and block_agent_data[x].taken == False):\n",
    "            allocation_amt = eth_to_pounds(duration*block_agent_data[x].amount) # a - from differential eq\n",
    "\n",
    "            ## calculate allocating amount from policy\n",
    "            if(verify_allocated_amount(block_agent_data[x], allocation_amt, pool_amount) == True):\n",
    "                print(\"allocation_amt \" + str(allocation_amt) + \", pool_amount\" + str(pool_amount))\n",
    "                block_agent_data[x].taken = True\n",
    "                pool_amount -= allocation_amt\n",
    "            else :\n",
    "                print(\"Not enough money in pool to allocate agent full amount of: \" + str(allocation_amt) + \"\\n\")    \n",
    "                allocation_amt = pool_amount\n",
    "                block_agent_data[x].taken = False\n",
    "                pool_amount = 0\n",
    "                \n",
    "            print(\"Allocating agent: \" + str(block_agent_data[x].pubkey) + \", standing: \" + str(block_agent_data[x].standing) + \", amount: GBP\" + str(allocation_amt))\n",
    "            block_agent_data[x].balance += allocation_amt\n",
    "    return pool_amount"
   ]
  },
  {
   "cell_type": "markdown",
   "metadata": {},
   "source": [
    "#### 2. Update state of circle and proccess and add block"
   ]
  },
  {
   "cell_type": "code",
   "execution_count": 11,
   "metadata": {},
   "outputs": [],
   "source": [
    "def new_pool_state(genesis_state, timestep, duration, p_collected_amt):    \n",
    "    \n",
    "    new_pool_amount = allocate_pool(genesis_state, timestep, duration, p_collected_amt)    \n",
    "    updateCircle_ = update_circle_state(genesis_state.data[0]['name'], timestep+1, p_collected_amt, new_pool_amount, genesis_state.data[0]['data'])\n",
    "    new_block = create_block(updateCircle_) # create block\n",
    "    print(\"Pool amount: GBP\" + str(get_total_active_balance(updateCircle_)))\n",
    "    \n",
    "    print(\"ENDING PROCESS\")\n",
    "        \n",
    "    return new_block"
   ]
  },
  {
   "cell_type": "code",
   "execution_count": 12,
   "metadata": {},
   "outputs": [],
   "source": [
    "# Relevant state variables\n",
    "current_pool_state = initial_conditions['pool_state']\n",
    "\n",
    "# Relevant parameters\n",
    "duration = system_params['duration'][0] #  from \"alpha\" in our differential equation"
   ]
  },
  {
   "cell_type": "code",
   "execution_count": 13,
   "metadata": {},
   "outputs": [],
   "source": [
    "def s_updatepool(params, substep, state_history, previous_state, policy_input):\n",
    "    \"\"\"\n",
    "    Update the pool state according to the differential equation (1):\n",
    "    current_pool_state + collected_amount - allocation_amount\n",
    "    \"\"\"\n",
    "    pool = previous_state['pool_state']\n",
    "    duration = params['duration']\n",
    "    calc_timestep = pool.data[0]['timestep'] \n",
    "    p_collected_amt = policy_input['collected_amount']\n",
    "    \n",
    "    return 'pool_state', new_pool_state(pool, calc_timestep, duration, p_collected_amt)"
   ]
  },
  {
   "cell_type": "markdown",
   "metadata": {},
   "source": [
    "# 5. Partial State Update Blocks\n",
    "> A series of Partial State Update Blocks is a structure for composing State Update Functions and Policy Functions in series or parallel, as a representation of the system model. "
   ]
  },
  {
   "cell_type": "markdown",
   "metadata": {},
   "source": [
    "<center>\n",
    "<img src=\"./images/basic-psub.png\"\n",
    "     alt=\"Policy functions\"\n",
    "     style=\"width: 60%;\" />\n",
    "</center>"
   ]
  },
  {
   "cell_type": "code",
   "execution_count": 14,
   "metadata": {},
   "outputs": [],
   "source": [
    "partial_state_update_blocks = [\n",
    "    {\n",
    "        'policies': {\n",
    "            'collected_amount': p_intitiate_monthly_deposits,\n",
    "        }, \n",
    "        # State variables\n",
    "        'variables': {\n",
    "            # Updated in parallel\n",
    "            'pool_state': s_updatepool,\n",
    "        }\n",
    "    }\n",
    "]"
   ]
  },
  {
   "cell_type": "markdown",
   "metadata": {},
   "source": [
    "# 6. Configuration\n",
    "> The configuration stage is about tying all the previous model components together and choosing how the simulation should run.\n",
    "\n",
    "![Flow](./images/cadflow2.png)"
   ]
  },
  {
   "cell_type": "markdown",
   "metadata": {},
   "source": [
    "Configuration parameters:\n",
    "* `'N': 1` - the number of times we'll run the simulation (called \"Monte Carlo runs\" later)\n",
    "* `'T': range(10)` - the number of timesteps the simulation will run for\n",
    "* `'M': system_params` - the parameters of the system"
   ]
  },
  {
   "cell_type": "code",
   "execution_count": 15,
   "metadata": {},
   "outputs": [],
   "source": [
    "sim_config = config_sim({\n",
    "    \"N\": 1,\n",
    "    \"T\": range(10),\n",
    "    \"M\": system_params\n",
    "})"
   ]
  },
  {
   "cell_type": "code",
   "execution_count": 16,
   "metadata": {},
   "outputs": [],
   "source": [
    "from cadCAD import configs\n",
    "del configs[:] # Clear any prior configs"
   ]
  },
  {
   "cell_type": "code",
   "execution_count": 17,
   "metadata": {},
   "outputs": [
    {
     "data": {
      "text/plain": [
       "{'sim_config': {'N': 1,\n",
       "  'T': range(0, 10),\n",
       "  'M': {'duration': 10},\n",
       "  'subset_id': 0,\n",
       "  'subset_window': deque([0, None]),\n",
       "  'simulation_id': 0,\n",
       "  'run_id': 0},\n",
       " 'initial_state': {'pool_state': 1 - 88914 - d6d8caf9c005f74200ab5b1f6499fb80d74631f41c0d56854297f8e8e0632b96 - [{'name': 'Hudas saving circle :)', 'timestep': 0, 'collected_amt': 0.0, 'balance': 0.0, 'data': [<agents.AgentData object at 0x1053030d0>, <agents.AgentData object at 0x11550bd30>, <agents.AgentData object at 0x1157ee700>, <agents.AgentData object at 0x1053030a0>, <agents.AgentData object at 0x1052e5a00>, <agents.AgentData object at 0x1052e50d0>, <agents.AgentData object at 0x1052e5f10>, <agents.AgentData object at 0x1052e5e20>, <agents.AgentData object at 0x1052e5670>, <agents.AgentData object at 0x1052e5f40>]}] - 1614348700.714124},\n",
       " 'seeds': {},\n",
       " 'env_processes': {},\n",
       " 'exogenous_states': {},\n",
       " 'partial_state_updates': [{'policies': {'collected_amount': <function __main__.p_intitiate_monthly_deposits(params, substep, state_history, previous_state)>},\n",
       "   'variables': {'pool_state': <function __main__.s_pool(params, substep, state_history, previous_state, policy_input)>}}],\n",
       " 'policy_ops': [<function cadCAD.configuration.Experiment.<lambda>(a, b)>],\n",
       " 'kwargs': {},\n",
       " 'user_id': 'cadCAD_user',\n",
       " 'session_id': 'cadCAD_user=0_0',\n",
       " 'simulation_id': 0,\n",
       " 'run_id': 0,\n",
       " 'experiment_id': 0,\n",
       " 'exp_window': deque([1, 0]),\n",
       " 'subset_id': 0,\n",
       " 'subset_window': deque([0, None])}"
      ]
     },
     "execution_count": 17,
     "metadata": {},
     "output_type": "execute_result"
    }
   ],
   "source": [
    "experiment = Experiment()\n",
    "experiment.append_configs(\n",
    "    initial_state = initial_conditions,\n",
    "    partial_state_update_blocks = partial_state_update_blocks,\n",
    "    sim_configs = sim_config\n",
    ")\n",
    "configs[-1].__dict__"
   ]
  },
  {
   "cell_type": "markdown",
   "metadata": {},
   "source": [
    "# 7. Execution\n",
    "\n",
    "> The Execution Engine takes a model and configuration, and computes the simulation output.\n",
    "\n",
    "## Configuring the cadCAD simulation execution"
   ]
  },
  {
   "cell_type": "code",
   "execution_count": 18,
   "metadata": {},
   "outputs": [],
   "source": [
    "exec_context = ExecutionContext()"
   ]
  },
  {
   "cell_type": "code",
   "execution_count": 19,
   "metadata": {},
   "outputs": [],
   "source": [
    "simulation = Executor(exec_context=exec_context, configs=configs)"
   ]
  },
  {
   "cell_type": "markdown",
   "metadata": {},
   "source": [
    "## We can now simulate our ROSCA model!"
   ]
  },
  {
   "cell_type": "code",
   "execution_count": 20,
   "metadata": {
    "scrolled": true
   },
   "outputs": [
    {
     "name": "stdout",
     "output_type": "stream",
     "text": [
      "\n",
      "                  ___________    ____\n",
      "  ________ __ ___/ / ____/   |  / __ \\\n",
      " / ___/ __` / __  / /   / /| | / / / /\n",
      "/ /__/ /_/ / /_/ / /___/ ___ |/ /_/ /\n",
      "\\___/\\__,_/\\__,_/\\____/_/  |_/_____/\n",
      "by cadCAD\n",
      "\n",
      "Execution Mode: local_proc\n",
      "Configuration Count: 1\n",
      "Dimensions of the first simulation: (Timesteps, Params, Runs, Vars) = (10, 1, 1, 1)\n",
      "Execution Method: local_simulations\n",
      "SimIDs   : [0]\n",
      "SubsetIDs: [0]\n",
      "Ns       : [0]\n",
      "ExpIDs   : [0]\n",
      "Execution Mode: single_threaded\n",
      "\n",
      "STARTING ROSCA MONTH 0\n",
      "Agent defaulted. Amount: 300.0\n",
      "Agent defaulted. Amount: 300.0\n",
      "Total deposited amount: GBP2400.0\n",
      "Not enough money in pool to allocate agent full amount of: 3000.0\n",
      "\n",
      "Allocating agent: b'2\\xe7\\x88@\\x7f\\x81\\xd0O\\xdb\\x8fI[\\xebt\\xcf\\x92\\xfa\\x15\\xb9\\xc3\\xa7\\x16\\xde\\x82.\\x97\\xd0\\xd4ePcipb)JfL\\xb7\\xc5\\xc2}\\xbd\\xfce\\xf6\\x8c_', standing: 0, amount: GBP2400.0\n",
      "Updating circle state..\n",
      "Added block: 2, hash - e5da565463b6fd95f13afb7884b5996a18fb8d89c35d541d94a69130ab3abfaa, prev_hash - 6a03995b525180f6334595fb6306448ebeb7788f604a07b7780b4e9c2f09f0aa, timestep - 1\n",
      "Pool amount: GBP0\n",
      "ENDING PROCESS\n",
      "\n",
      "STARTING ROSCA MONTH 1\n",
      "Total deposited amount: GBP3000.0\n",
      "allocation_amt 3000.0, pool_amount3000.0\n",
      "Allocating agent: b'c\\x94\\xb2\\xe0\\xd5\\xfd\\x1b\\xe6v`E\\xf0wn\\xa8c\\x19\\xa6\\xdf=A1r\\xb8\\x14\\xd0\\xdd\\x05_ \\xa3\\xb5\\x88\\xb5m\\x9cbu\\x8c\\xd6\\x1b\\xcb\\xa9n>\\xde\\x85]', standing: 1, amount: GBP3000.0\n",
      "Updating circle state..\n",
      "Added block: 3, hash - df1118da705dc4131a1d0d45045c1848dac082b5ec12f57ad5d23f14f3351a37, prev_hash - e5da565463b6fd95f13afb7884b5996a18fb8d89c35d541d94a69130ab3abfaa, timestep - 2\n",
      "Pool amount: GBP0.0\n",
      "ENDING PROCESS\n",
      "\n",
      "STARTING ROSCA MONTH 2\n",
      "Agent defaulted. Amount: 300.0\n",
      "Agent defaulted. Amount: 300.0\n",
      "Total deposited amount: GBP2400.0\n",
      "Not enough money in pool to allocate agent full amount of: 3000.0\n",
      "\n",
      "Allocating agent: b'\\x7f\\xd5\\x98Y\\x1f\\xfb~}\\x1bb\\x89hY\\xca\\x8c\\xe0(\\xd0&.\\x91\\xe4\\xe9\\x80\\x1bF\\xc8B}\\x9b\\x1dZj=\\xc2\\xb4\\xc3\\xd9q\\xea\\'T\\xb2\\xbf/\";\\x02', standing: 2, amount: GBP2400.0\n",
      "Updating circle state..\n",
      "Added block: 4, hash - 3d3a92a8fd069db6b13d92b63973f76176f93215529f080bee2a7d564d89539b, prev_hash - df1118da705dc4131a1d0d45045c1848dac082b5ec12f57ad5d23f14f3351a37, timestep - 3\n",
      "Pool amount: GBP0\n",
      "ENDING PROCESS\n",
      "\n",
      "STARTING ROSCA MONTH 3\n",
      "Total deposited amount: GBP3000.0\n",
      "allocation_amt 3000.0, pool_amount3000.0\n",
      "Allocating agent: b'\\t\\x92\\xeb\\r\\x8d\\x05{\\xe7\\xa9\\xb71\\x9d\\xc4\\x85O\\xef3\\x1b\\xdfG\\xc0\\r\\xf2\\xfc\\xf0\\xe6\\xd0\\xf4\\x918,\\xd8\\x95\\x8ft6\\xf8\\xf5\\x12!s\\x8f\\x16\\x92\\xdd<\\xaa\\x96', standing: 3, amount: GBP3000.0\n",
      "Updating circle state..\n",
      "Added block: 5, hash - 0b76783bbce16b3212106e688ce381de7d24780c3f663440dc4d3c7aca342082, prev_hash - 3d3a92a8fd069db6b13d92b63973f76176f93215529f080bee2a7d564d89539b, timestep - 4\n",
      "Pool amount: GBP0.0\n",
      "ENDING PROCESS\n",
      "\n",
      "STARTING ROSCA MONTH 4\n",
      "Agent defaulted. Amount: 300.0\n",
      "Total deposited amount: GBP2700.0\n",
      "Not enough money in pool to allocate agent full amount of: 3000.0\n",
      "\n",
      "Allocating agent: b'\\xa9\\xaf0<\\xe1\\xc69\\xc6\\x1bN^\\n\\xf9\\xcaQ\\x97(K\\xda\\xaeQ\\x8b\\xbc&\\x14\\x0c\\xbb\\xea\\xc5P\\x9b\\xb3\\xee\\x14R\\x8a\\x00!\\xe1\\xf8W\\xc8\\xed\\x0c\\x1f#\\xfb\\xbb', standing: 4, amount: GBP2700.0\n",
      "Updating circle state..\n",
      "Added block: 6, hash - 1a426b0e897a5df59b34ac9c3d0a23b2d1e73e2c3f07d64c4f8e628ee30ba267, prev_hash - 0b76783bbce16b3212106e688ce381de7d24780c3f663440dc4d3c7aca342082, timestep - 5\n",
      "Pool amount: GBP0\n",
      "ENDING PROCESS\n",
      "\n",
      "STARTING ROSCA MONTH 5\n",
      "Total deposited amount: GBP3000.0\n",
      "allocation_amt 3000.0, pool_amount3000.0\n",
      "Allocating agent: b'\\x10Z\\x88\\xbd\\xa31Wy\\x84\\xb1\\x06\\xa7&\\xc5\\x7f\\x0b\\xd9\\xe3,\\x91\\x90\\xc0\\x9f\\xaaxF\\xdf\\xb0\\x11\\x9f\\xec\\xb03+\\x887\\xbcH\\x9f3\\xb6\\x15\\xc0\\xf0\\x0b\\x8c\\x14\\x1f', standing: 5, amount: GBP3000.0\n",
      "Updating circle state..\n",
      "Added block: 7, hash - 438eada0672053eea9ef4780f8098aa402743ab6bc5fd6c840d21c3f19e1941a, prev_hash - 1a426b0e897a5df59b34ac9c3d0a23b2d1e73e2c3f07d64c4f8e628ee30ba267, timestep - 6\n",
      "Pool amount: GBP0.0\n",
      "ENDING PROCESS\n",
      "\n",
      "STARTING ROSCA MONTH 6\n",
      "Total deposited amount: GBP3000.0\n",
      "allocation_amt 3000.0, pool_amount3000.0\n",
      "Allocating agent: b'(J\\xd0U\\xcb\\x15\\xcdn-a\\x003\\xdaFG\\x1eR\\xce\\xe3|\\x9c\\xe9\\x02j\\x8e\\xace\\x14o+8^\"\\xc5\\xb4\\x18\\'F\\xe1\\xc3\\x9d\\x02\\xc2<\\x1b\\xe6\\xf3\\x81', standing: 6, amount: GBP3000.0\n",
      "Updating circle state..\n",
      "Added block: 8, hash - 338489e3207db7534c63cbeafeaadec9c333002cbc291402eab3450e05aca856, prev_hash - 438eada0672053eea9ef4780f8098aa402743ab6bc5fd6c840d21c3f19e1941a, timestep - 7\n",
      "Pool amount: GBP0.0\n",
      "ENDING PROCESS\n",
      "\n",
      "STARTING ROSCA MONTH 7\n",
      "Agent defaulted. Amount: 300.0\n",
      "Total deposited amount: GBP2700.0\n",
      "Not enough money in pool to allocate agent full amount of: 3000.0\n",
      "\n",
      "Allocating agent: b\"\\x1e'\\x81\\x9d\\xea\\x03Av3\\xdc\\x97\\xb0\\xbc\\x94\\xbd[M\\xed\\xe7y\\xf9\\xabD\\xae\\x86It\\x94\\x95\\x8bg\\t\\xe6\\x95\\x0b\\x03*\\xbe\\t\\xb69\\x8f\\xf4\\x80\\x0cZ\\xe4\\xa6\", standing: 7, amount: GBP2700.0\n",
      "Updating circle state..\n",
      "Added block: 9, hash - 314460723057d72d9f0463584844b60b45547f0de2d3715199a701e22eb14abf, prev_hash - 338489e3207db7534c63cbeafeaadec9c333002cbc291402eab3450e05aca856, timestep - 8\n",
      "Pool amount: GBP0\n",
      "ENDING PROCESS\n",
      "\n",
      "STARTING ROSCA MONTH 8\n",
      "Agent defaulted. Amount: 300.0\n",
      "Agent defaulted. Amount: 300.0\n",
      "Total deposited amount: GBP2400.0\n",
      "Not enough money in pool to allocate agent full amount of: 3000.0\n",
      "\n",
      "Allocating agent: b'\\xb8\\x893\\xa9W!\\xba\\xa9\\x8f\\x06\\xfc\\x9d\\x91W\\xae\\x8f\\xa3J\\xeb\\x88\\xe5\\x9fH\\xf6 \\x808\\x8c=T\\xafa\\x8c\\x90\\x96\\xe5jm\\xc2\\xae\\xb4\\xf2\\xe4\\xef\\xd7\\xff\\xe79', standing: 8, amount: GBP2400.0\n",
      "Updating circle state..\n",
      "Added block: 10, hash - 9b5efa1ef81b08622dd34a26b89ff96f492eaef8e090aa10bc5f4c53dfee70bd, prev_hash - 314460723057d72d9f0463584844b60b45547f0de2d3715199a701e22eb14abf, timestep - 9\n",
      "Pool amount: GBP0\n",
      "ENDING PROCESS\n",
      "\n",
      "STARTING ROSCA MONTH 9\n",
      "Agent defaulted. Amount: 300.0\n",
      "Agent defaulted. Amount: 300.0\n",
      "Total deposited amount: GBP2400.0\n",
      "Not enough money in pool to allocate agent full amount of: 3000.0\n",
      "\n",
      "Allocating agent: b'\\x1b\\xc0\\xffs\\xbd\\x9c\\x9a\\x81\\x88\\x18\\x10m\\x175\\xf0\\x93\\xa4\\xb1\\xdf\\xb2\\x95\\xf0n\\x0eP\\xdd:\\xb5\\x91\\xf0\\xb9\\xe8\\x18\\x1erF\\xa93\\xd6\\xb2\\x80/\\xdc\\xd4W;\\x8e\\x94', standing: 9, amount: GBP2400.0\n",
      "Updating circle state..\n",
      "Added block: 11, hash - 71d097c7d2afaef5f6d841ac6020e7b19c849d17a1d8f0997cb62f779c0e71ac, prev_hash - 9b5efa1ef81b08622dd34a26b89ff96f492eaef8e090aa10bc5f4c53dfee70bd, timestep - 10\n",
      "Pool amount: GBP0\n",
      "ENDING PROCESS\n",
      "Total execution time: 1.38s\n"
     ]
    }
   ],
   "source": [
    "raw_result, tensor_field, sessions = simulation.execute()"
   ]
  },
  {
   "cell_type": "markdown",
   "metadata": {},
   "source": [
    "# 8. Simulation Output Preparation\n",
    "> The simulation results are returned as a list of Python dictionaries, which we then convert to a Pandas dataframe. At this stage of the process we'll manipulate and analyze our results to answer questions about our model."
   ]
  },
  {
   "cell_type": "code",
   "execution_count": 24,
   "metadata": {
    "scrolled": true
   },
   "outputs": [
    {
     "data": {
      "text/html": [
       "<div>\n",
       "<style scoped>\n",
       "    .dataframe tbody tr th:only-of-type {\n",
       "        vertical-align: middle;\n",
       "    }\n",
       "\n",
       "    .dataframe tbody tr th {\n",
       "        vertical-align: top;\n",
       "    }\n",
       "\n",
       "    .dataframe thead th {\n",
       "        text-align: right;\n",
       "    }\n",
       "</style>\n",
       "<table border=\"1\" class=\"dataframe\">\n",
       "  <thead>\n",
       "    <tr style=\"text-align: right;\">\n",
       "      <th></th>\n",
       "      <th>timestep</th>\n",
       "      <th>collected_amount</th>\n",
       "      <th>defaulted_amount</th>\n",
       "      <th>pool_balance</th>\n",
       "      <th>agent_default_count</th>\n",
       "    </tr>\n",
       "  </thead>\n",
       "  <tbody>\n",
       "    <tr>\n",
       "      <th>1</th>\n",
       "      <td>1</td>\n",
       "      <td>2700.0</td>\n",
       "      <td>300.0</td>\n",
       "      <td>0.0</td>\n",
       "      <td>1</td>\n",
       "    </tr>\n",
       "    <tr>\n",
       "      <th>2</th>\n",
       "      <td>2</td>\n",
       "      <td>3000.0</td>\n",
       "      <td>0.0</td>\n",
       "      <td>0.0</td>\n",
       "      <td>0</td>\n",
       "    </tr>\n",
       "    <tr>\n",
       "      <th>3</th>\n",
       "      <td>3</td>\n",
       "      <td>3000.0</td>\n",
       "      <td>0.0</td>\n",
       "      <td>0.0</td>\n",
       "      <td>0</td>\n",
       "    </tr>\n",
       "    <tr>\n",
       "      <th>4</th>\n",
       "      <td>4</td>\n",
       "      <td>2100.0</td>\n",
       "      <td>900.0</td>\n",
       "      <td>0.0</td>\n",
       "      <td>3</td>\n",
       "    </tr>\n",
       "    <tr>\n",
       "      <th>5</th>\n",
       "      <td>5</td>\n",
       "      <td>3000.0</td>\n",
       "      <td>0.0</td>\n",
       "      <td>0.0</td>\n",
       "      <td>0</td>\n",
       "    </tr>\n",
       "    <tr>\n",
       "      <th>6</th>\n",
       "      <td>6</td>\n",
       "      <td>3000.0</td>\n",
       "      <td>0.0</td>\n",
       "      <td>0.0</td>\n",
       "      <td>0</td>\n",
       "    </tr>\n",
       "    <tr>\n",
       "      <th>7</th>\n",
       "      <td>7</td>\n",
       "      <td>2700.0</td>\n",
       "      <td>300.0</td>\n",
       "      <td>0.0</td>\n",
       "      <td>1</td>\n",
       "    </tr>\n",
       "    <tr>\n",
       "      <th>8</th>\n",
       "      <td>8</td>\n",
       "      <td>3000.0</td>\n",
       "      <td>0.0</td>\n",
       "      <td>0.0</td>\n",
       "      <td>0</td>\n",
       "    </tr>\n",
       "    <tr>\n",
       "      <th>9</th>\n",
       "      <td>9</td>\n",
       "      <td>2700.0</td>\n",
       "      <td>300.0</td>\n",
       "      <td>0.0</td>\n",
       "      <td>1</td>\n",
       "    </tr>\n",
       "    <tr>\n",
       "      <th>10</th>\n",
       "      <td>10</td>\n",
       "      <td>3000.0</td>\n",
       "      <td>0.0</td>\n",
       "      <td>0.0</td>\n",
       "      <td>0</td>\n",
       "    </tr>\n",
       "  </tbody>\n",
       "</table>\n",
       "</div>"
      ],
      "text/plain": [
       "    timestep  collected_amount  defaulted_amount  pool_balance  \\\n",
       "1          1            2700.0             300.0           0.0   \n",
       "2          2            3000.0               0.0           0.0   \n",
       "3          3            3000.0               0.0           0.0   \n",
       "4          4            2100.0             900.0           0.0   \n",
       "5          5            3000.0               0.0           0.0   \n",
       "6          6            3000.0               0.0           0.0   \n",
       "7          7            2700.0             300.0           0.0   \n",
       "8          8            3000.0               0.0           0.0   \n",
       "9          9            2700.0             300.0           0.0   \n",
       "10        10            3000.0               0.0           0.0   \n",
       "\n",
       "    agent_default_count  \n",
       "1                     1  \n",
       "2                     0  \n",
       "3                     0  \n",
       "4                     3  \n",
       "5                     0  \n",
       "6                     0  \n",
       "7                     1  \n",
       "8                     0  \n",
       "9                     1  \n",
       "10                    0  "
      ]
     },
     "execution_count": 24,
     "metadata": {},
     "output_type": "execute_result"
    }
   ],
   "source": [
    "simulation_result = pd.DataFrame(raw_result)\n",
    "df = simulation_result.copy()\n",
    "\n",
    "total_amt = get_total_montly_contribution(genesis_state.data[0]['data'])\n",
    "\n",
    "balance=[] \n",
    "collected=[]\n",
    "missing=[]\n",
    "defaulted=[]\n",
    "\n",
    "for index, row in simulation_result.iterrows():\n",
    "    balance.append(row.pool_state.data[0]['balance']),\n",
    "    collected.append(row.pool_state.data[0]['collected_amt']),\n",
    "    missing.append(total_amt - row.pool_state.data[0]['collected_amt']),\n",
    "    defaulted.append(get_monthly_default_count(row.pool_state.data[0]['data']))\n",
    "    \n",
    "df['collected_amount'] = np.array(collected).tolist()\n",
    "df['defaulted_amount'] = np.array(missing).tolist()\n",
    "df['pool_balance'] = np.array(balance).tolist()\n",
    "df['agent_default_count'] = np.array(defaulted).tolist()\n",
    "df.iloc[:,5:11][1:11]"
   ]
  },
  {
   "cell_type": "markdown",
   "metadata": {},
   "source": [
    "# 9. Simulation Analysis\n",
    "  \n",
    "From the above table, we see two things; randomness in the number of times and when an agent defaults and given we've set the amount given to the agents monthly as £3000, we see the number of times an agent recieves their full payout is low compared to the number of times they don't."
   ]
  },
  {
   "cell_type": "code",
   "execution_count": 21,
   "metadata": {},
   "outputs": [
    {
     "ename": "NameError",
     "evalue": "name 'df' is not defined",
     "output_type": "error",
     "traceback": [
      "\u001b[0;31m---------------------------------------------------------------------------\u001b[0m",
      "\u001b[0;31mNameError\u001b[0m                                 Traceback (most recent call last)",
      "\u001b[0;32m<ipython-input-21-32dcb8f300d8>\u001b[0m in \u001b[0;36m<module>\u001b[0;34m\u001b[0m\n\u001b[0;32m----> 1\u001b[0;31m \u001b[0mdf\u001b[0m\u001b[0;34m[\u001b[0m\u001b[0mdf\u001b[0m\u001b[0;34m.\u001b[0m\u001b[0mtimestep\u001b[0m \u001b[0;34m>=\u001b[0m \u001b[0;36m1\u001b[0m\u001b[0;34m]\u001b[0m\u001b[0;34m.\u001b[0m\u001b[0mplot\u001b[0m\u001b[0;34m(\u001b[0m\u001b[0mkind\u001b[0m\u001b[0;34m=\u001b[0m\u001b[0;34m'line'\u001b[0m\u001b[0;34m,\u001b[0m \u001b[0mx\u001b[0m\u001b[0;34m=\u001b[0m\u001b[0;34m'timestep'\u001b[0m\u001b[0;34m,\u001b[0m \u001b[0my\u001b[0m\u001b[0;34m=\u001b[0m\u001b[0;34m[\u001b[0m\u001b[0;34m'collected_amount'\u001b[0m\u001b[0;34m,\u001b[0m\u001b[0;34m'defaulted_amount'\u001b[0m\u001b[0;34m]\u001b[0m\u001b[0;34m)\u001b[0m\u001b[0;34m\u001b[0m\u001b[0;34m\u001b[0m\u001b[0m\n\u001b[0m",
      "\u001b[0;31mNameError\u001b[0m: name 'df' is not defined"
     ]
    }
   ],
   "source": [
    "df[df.timestep >= 1].plot(kind='line', x='timestep', y=['collected_amount','defaulted_amount'])"
   ]
  },
  {
   "cell_type": "code",
   "execution_count": 50,
   "metadata": {},
   "outputs": [
    {
     "data": {
      "application/vnd.plotly.v1+json": {
       "config": {
        "plotlyServerURL": "https://plot.ly"
       },
       "data": [
        {
         "hovertemplate": "variable=agent_default_count<br>timestep=%{x}<br>value=%{y}<extra></extra>",
         "legendgroup": "agent_default_count",
         "line": {
          "color": "#636efa",
          "dash": "solid"
         },
         "mode": "lines",
         "name": "agent_default_count",
         "orientation": "v",
         "showlegend": true,
         "type": "scatter",
         "x": [
          1,
          2,
          3,
          4,
          5,
          6,
          7,
          8,
          9,
          10
         ],
         "xaxis": "x",
         "y": [
          1,
          1,
          3,
          1,
          0,
          0,
          1,
          1,
          0,
          3
         ],
         "yaxis": "y"
        }
       ],
       "layout": {
        "legend": {
         "title": {
          "text": "variable"
         },
         "tracegroupgap": 0
        },
        "margin": {
         "t": 60
        },
        "template": {
         "data": {
          "bar": [
           {
            "error_x": {
             "color": "#2a3f5f"
            },
            "error_y": {
             "color": "#2a3f5f"
            },
            "marker": {
             "line": {
              "color": "#E5ECF6",
              "width": 0.5
             }
            },
            "type": "bar"
           }
          ],
          "barpolar": [
           {
            "marker": {
             "line": {
              "color": "#E5ECF6",
              "width": 0.5
             }
            },
            "type": "barpolar"
           }
          ],
          "carpet": [
           {
            "aaxis": {
             "endlinecolor": "#2a3f5f",
             "gridcolor": "white",
             "linecolor": "white",
             "minorgridcolor": "white",
             "startlinecolor": "#2a3f5f"
            },
            "baxis": {
             "endlinecolor": "#2a3f5f",
             "gridcolor": "white",
             "linecolor": "white",
             "minorgridcolor": "white",
             "startlinecolor": "#2a3f5f"
            },
            "type": "carpet"
           }
          ],
          "choropleth": [
           {
            "colorbar": {
             "outlinewidth": 0,
             "ticks": ""
            },
            "type": "choropleth"
           }
          ],
          "contour": [
           {
            "colorbar": {
             "outlinewidth": 0,
             "ticks": ""
            },
            "colorscale": [
             [
              0,
              "#0d0887"
             ],
             [
              0.1111111111111111,
              "#46039f"
             ],
             [
              0.2222222222222222,
              "#7201a8"
             ],
             [
              0.3333333333333333,
              "#9c179e"
             ],
             [
              0.4444444444444444,
              "#bd3786"
             ],
             [
              0.5555555555555556,
              "#d8576b"
             ],
             [
              0.6666666666666666,
              "#ed7953"
             ],
             [
              0.7777777777777778,
              "#fb9f3a"
             ],
             [
              0.8888888888888888,
              "#fdca26"
             ],
             [
              1,
              "#f0f921"
             ]
            ],
            "type": "contour"
           }
          ],
          "contourcarpet": [
           {
            "colorbar": {
             "outlinewidth": 0,
             "ticks": ""
            },
            "type": "contourcarpet"
           }
          ],
          "heatmap": [
           {
            "colorbar": {
             "outlinewidth": 0,
             "ticks": ""
            },
            "colorscale": [
             [
              0,
              "#0d0887"
             ],
             [
              0.1111111111111111,
              "#46039f"
             ],
             [
              0.2222222222222222,
              "#7201a8"
             ],
             [
              0.3333333333333333,
              "#9c179e"
             ],
             [
              0.4444444444444444,
              "#bd3786"
             ],
             [
              0.5555555555555556,
              "#d8576b"
             ],
             [
              0.6666666666666666,
              "#ed7953"
             ],
             [
              0.7777777777777778,
              "#fb9f3a"
             ],
             [
              0.8888888888888888,
              "#fdca26"
             ],
             [
              1,
              "#f0f921"
             ]
            ],
            "type": "heatmap"
           }
          ],
          "heatmapgl": [
           {
            "colorbar": {
             "outlinewidth": 0,
             "ticks": ""
            },
            "colorscale": [
             [
              0,
              "#0d0887"
             ],
             [
              0.1111111111111111,
              "#46039f"
             ],
             [
              0.2222222222222222,
              "#7201a8"
             ],
             [
              0.3333333333333333,
              "#9c179e"
             ],
             [
              0.4444444444444444,
              "#bd3786"
             ],
             [
              0.5555555555555556,
              "#d8576b"
             ],
             [
              0.6666666666666666,
              "#ed7953"
             ],
             [
              0.7777777777777778,
              "#fb9f3a"
             ],
             [
              0.8888888888888888,
              "#fdca26"
             ],
             [
              1,
              "#f0f921"
             ]
            ],
            "type": "heatmapgl"
           }
          ],
          "histogram": [
           {
            "marker": {
             "colorbar": {
              "outlinewidth": 0,
              "ticks": ""
             }
            },
            "type": "histogram"
           }
          ],
          "histogram2d": [
           {
            "colorbar": {
             "outlinewidth": 0,
             "ticks": ""
            },
            "colorscale": [
             [
              0,
              "#0d0887"
             ],
             [
              0.1111111111111111,
              "#46039f"
             ],
             [
              0.2222222222222222,
              "#7201a8"
             ],
             [
              0.3333333333333333,
              "#9c179e"
             ],
             [
              0.4444444444444444,
              "#bd3786"
             ],
             [
              0.5555555555555556,
              "#d8576b"
             ],
             [
              0.6666666666666666,
              "#ed7953"
             ],
             [
              0.7777777777777778,
              "#fb9f3a"
             ],
             [
              0.8888888888888888,
              "#fdca26"
             ],
             [
              1,
              "#f0f921"
             ]
            ],
            "type": "histogram2d"
           }
          ],
          "histogram2dcontour": [
           {
            "colorbar": {
             "outlinewidth": 0,
             "ticks": ""
            },
            "colorscale": [
             [
              0,
              "#0d0887"
             ],
             [
              0.1111111111111111,
              "#46039f"
             ],
             [
              0.2222222222222222,
              "#7201a8"
             ],
             [
              0.3333333333333333,
              "#9c179e"
             ],
             [
              0.4444444444444444,
              "#bd3786"
             ],
             [
              0.5555555555555556,
              "#d8576b"
             ],
             [
              0.6666666666666666,
              "#ed7953"
             ],
             [
              0.7777777777777778,
              "#fb9f3a"
             ],
             [
              0.8888888888888888,
              "#fdca26"
             ],
             [
              1,
              "#f0f921"
             ]
            ],
            "type": "histogram2dcontour"
           }
          ],
          "mesh3d": [
           {
            "colorbar": {
             "outlinewidth": 0,
             "ticks": ""
            },
            "type": "mesh3d"
           }
          ],
          "parcoords": [
           {
            "line": {
             "colorbar": {
              "outlinewidth": 0,
              "ticks": ""
             }
            },
            "type": "parcoords"
           }
          ],
          "pie": [
           {
            "automargin": true,
            "type": "pie"
           }
          ],
          "scatter": [
           {
            "marker": {
             "colorbar": {
              "outlinewidth": 0,
              "ticks": ""
             }
            },
            "type": "scatter"
           }
          ],
          "scatter3d": [
           {
            "line": {
             "colorbar": {
              "outlinewidth": 0,
              "ticks": ""
             }
            },
            "marker": {
             "colorbar": {
              "outlinewidth": 0,
              "ticks": ""
             }
            },
            "type": "scatter3d"
           }
          ],
          "scattercarpet": [
           {
            "marker": {
             "colorbar": {
              "outlinewidth": 0,
              "ticks": ""
             }
            },
            "type": "scattercarpet"
           }
          ],
          "scattergeo": [
           {
            "marker": {
             "colorbar": {
              "outlinewidth": 0,
              "ticks": ""
             }
            },
            "type": "scattergeo"
           }
          ],
          "scattergl": [
           {
            "marker": {
             "colorbar": {
              "outlinewidth": 0,
              "ticks": ""
             }
            },
            "type": "scattergl"
           }
          ],
          "scattermapbox": [
           {
            "marker": {
             "colorbar": {
              "outlinewidth": 0,
              "ticks": ""
             }
            },
            "type": "scattermapbox"
           }
          ],
          "scatterpolar": [
           {
            "marker": {
             "colorbar": {
              "outlinewidth": 0,
              "ticks": ""
             }
            },
            "type": "scatterpolar"
           }
          ],
          "scatterpolargl": [
           {
            "marker": {
             "colorbar": {
              "outlinewidth": 0,
              "ticks": ""
             }
            },
            "type": "scatterpolargl"
           }
          ],
          "scatterternary": [
           {
            "marker": {
             "colorbar": {
              "outlinewidth": 0,
              "ticks": ""
             }
            },
            "type": "scatterternary"
           }
          ],
          "surface": [
           {
            "colorbar": {
             "outlinewidth": 0,
             "ticks": ""
            },
            "colorscale": [
             [
              0,
              "#0d0887"
             ],
             [
              0.1111111111111111,
              "#46039f"
             ],
             [
              0.2222222222222222,
              "#7201a8"
             ],
             [
              0.3333333333333333,
              "#9c179e"
             ],
             [
              0.4444444444444444,
              "#bd3786"
             ],
             [
              0.5555555555555556,
              "#d8576b"
             ],
             [
              0.6666666666666666,
              "#ed7953"
             ],
             [
              0.7777777777777778,
              "#fb9f3a"
             ],
             [
              0.8888888888888888,
              "#fdca26"
             ],
             [
              1,
              "#f0f921"
             ]
            ],
            "type": "surface"
           }
          ],
          "table": [
           {
            "cells": {
             "fill": {
              "color": "#EBF0F8"
             },
             "line": {
              "color": "white"
             }
            },
            "header": {
             "fill": {
              "color": "#C8D4E3"
             },
             "line": {
              "color": "white"
             }
            },
            "type": "table"
           }
          ]
         },
         "layout": {
          "annotationdefaults": {
           "arrowcolor": "#2a3f5f",
           "arrowhead": 0,
           "arrowwidth": 1
          },
          "coloraxis": {
           "colorbar": {
            "outlinewidth": 0,
            "ticks": ""
           }
          },
          "colorscale": {
           "diverging": [
            [
             0,
             "#8e0152"
            ],
            [
             0.1,
             "#c51b7d"
            ],
            [
             0.2,
             "#de77ae"
            ],
            [
             0.3,
             "#f1b6da"
            ],
            [
             0.4,
             "#fde0ef"
            ],
            [
             0.5,
             "#f7f7f7"
            ],
            [
             0.6,
             "#e6f5d0"
            ],
            [
             0.7,
             "#b8e186"
            ],
            [
             0.8,
             "#7fbc41"
            ],
            [
             0.9,
             "#4d9221"
            ],
            [
             1,
             "#276419"
            ]
           ],
           "sequential": [
            [
             0,
             "#0d0887"
            ],
            [
             0.1111111111111111,
             "#46039f"
            ],
            [
             0.2222222222222222,
             "#7201a8"
            ],
            [
             0.3333333333333333,
             "#9c179e"
            ],
            [
             0.4444444444444444,
             "#bd3786"
            ],
            [
             0.5555555555555556,
             "#d8576b"
            ],
            [
             0.6666666666666666,
             "#ed7953"
            ],
            [
             0.7777777777777778,
             "#fb9f3a"
            ],
            [
             0.8888888888888888,
             "#fdca26"
            ],
            [
             1,
             "#f0f921"
            ]
           ],
           "sequentialminus": [
            [
             0,
             "#0d0887"
            ],
            [
             0.1111111111111111,
             "#46039f"
            ],
            [
             0.2222222222222222,
             "#7201a8"
            ],
            [
             0.3333333333333333,
             "#9c179e"
            ],
            [
             0.4444444444444444,
             "#bd3786"
            ],
            [
             0.5555555555555556,
             "#d8576b"
            ],
            [
             0.6666666666666666,
             "#ed7953"
            ],
            [
             0.7777777777777778,
             "#fb9f3a"
            ],
            [
             0.8888888888888888,
             "#fdca26"
            ],
            [
             1,
             "#f0f921"
            ]
           ]
          },
          "colorway": [
           "#636efa",
           "#EF553B",
           "#00cc96",
           "#ab63fa",
           "#FFA15A",
           "#19d3f3",
           "#FF6692",
           "#B6E880",
           "#FF97FF",
           "#FECB52"
          ],
          "font": {
           "color": "#2a3f5f"
          },
          "geo": {
           "bgcolor": "white",
           "lakecolor": "white",
           "landcolor": "#E5ECF6",
           "showlakes": true,
           "showland": true,
           "subunitcolor": "white"
          },
          "hoverlabel": {
           "align": "left"
          },
          "hovermode": "closest",
          "mapbox": {
           "style": "light"
          },
          "paper_bgcolor": "white",
          "plot_bgcolor": "#E5ECF6",
          "polar": {
           "angularaxis": {
            "gridcolor": "white",
            "linecolor": "white",
            "ticks": ""
           },
           "bgcolor": "#E5ECF6",
           "radialaxis": {
            "gridcolor": "white",
            "linecolor": "white",
            "ticks": ""
           }
          },
          "scene": {
           "xaxis": {
            "backgroundcolor": "#E5ECF6",
            "gridcolor": "white",
            "gridwidth": 2,
            "linecolor": "white",
            "showbackground": true,
            "ticks": "",
            "zerolinecolor": "white"
           },
           "yaxis": {
            "backgroundcolor": "#E5ECF6",
            "gridcolor": "white",
            "gridwidth": 2,
            "linecolor": "white",
            "showbackground": true,
            "ticks": "",
            "zerolinecolor": "white"
           },
           "zaxis": {
            "backgroundcolor": "#E5ECF6",
            "gridcolor": "white",
            "gridwidth": 2,
            "linecolor": "white",
            "showbackground": true,
            "ticks": "",
            "zerolinecolor": "white"
           }
          },
          "shapedefaults": {
           "line": {
            "color": "#2a3f5f"
           }
          },
          "ternary": {
           "aaxis": {
            "gridcolor": "white",
            "linecolor": "white",
            "ticks": ""
           },
           "baxis": {
            "gridcolor": "white",
            "linecolor": "white",
            "ticks": ""
           },
           "bgcolor": "#E5ECF6",
           "caxis": {
            "gridcolor": "white",
            "linecolor": "white",
            "ticks": ""
           }
          },
          "title": {
           "x": 0.05
          },
          "xaxis": {
           "automargin": true,
           "gridcolor": "white",
           "linecolor": "white",
           "ticks": "",
           "title": {
            "standoff": 15
           },
           "zerolinecolor": "white",
           "zerolinewidth": 2
          },
          "yaxis": {
           "automargin": true,
           "gridcolor": "white",
           "linecolor": "white",
           "ticks": "",
           "title": {
            "standoff": 15
           },
           "zerolinecolor": "white",
           "zerolinewidth": 2
          }
         }
        },
        "xaxis": {
         "anchor": "y",
         "domain": [
          0,
          1
         ],
         "title": {
          "text": "timestep"
         }
        },
        "yaxis": {
         "anchor": "x",
         "domain": [
          0,
          1
         ],
         "title": {
          "text": "value"
         }
        }
       }
      },
      "text/html": [
       "<div>                            <div id=\"14bba1bd-0422-40b8-b3ac-42c1349bb482\" class=\"plotly-graph-div\" style=\"height:525px; width:100%;\"></div>            <script type=\"text/javascript\">                require([\"plotly\"], function(Plotly) {                    window.PLOTLYENV=window.PLOTLYENV || {};                                    if (document.getElementById(\"14bba1bd-0422-40b8-b3ac-42c1349bb482\")) {                    Plotly.newPlot(                        \"14bba1bd-0422-40b8-b3ac-42c1349bb482\",                        [{\"hovertemplate\": \"variable=agent_default_count<br>timestep=%{x}<br>value=%{y}<extra></extra>\", \"legendgroup\": \"agent_default_count\", \"line\": {\"color\": \"#636efa\", \"dash\": \"solid\"}, \"mode\": \"lines\", \"name\": \"agent_default_count\", \"orientation\": \"v\", \"showlegend\": true, \"type\": \"scatter\", \"x\": [1, 2, 3, 4, 5, 6, 7, 8, 9, 10], \"xaxis\": \"x\", \"y\": [1, 1, 3, 1, 0, 0, 1, 1, 0, 3], \"yaxis\": \"y\"}],                        {\"legend\": {\"title\": {\"text\": \"variable\"}, \"tracegroupgap\": 0}, \"margin\": {\"t\": 60}, \"template\": {\"data\": {\"bar\": [{\"error_x\": {\"color\": \"#2a3f5f\"}, \"error_y\": {\"color\": \"#2a3f5f\"}, \"marker\": {\"line\": {\"color\": \"#E5ECF6\", \"width\": 0.5}}, \"type\": \"bar\"}], \"barpolar\": [{\"marker\": {\"line\": {\"color\": \"#E5ECF6\", \"width\": 0.5}}, \"type\": \"barpolar\"}], \"carpet\": [{\"aaxis\": {\"endlinecolor\": \"#2a3f5f\", \"gridcolor\": \"white\", \"linecolor\": \"white\", \"minorgridcolor\": \"white\", \"startlinecolor\": \"#2a3f5f\"}, \"baxis\": {\"endlinecolor\": \"#2a3f5f\", \"gridcolor\": \"white\", \"linecolor\": \"white\", \"minorgridcolor\": \"white\", \"startlinecolor\": \"#2a3f5f\"}, \"type\": \"carpet\"}], \"choropleth\": [{\"colorbar\": {\"outlinewidth\": 0, \"ticks\": \"\"}, \"type\": \"choropleth\"}], \"contour\": [{\"colorbar\": {\"outlinewidth\": 0, \"ticks\": \"\"}, \"colorscale\": [[0.0, \"#0d0887\"], [0.1111111111111111, \"#46039f\"], [0.2222222222222222, \"#7201a8\"], [0.3333333333333333, \"#9c179e\"], [0.4444444444444444, \"#bd3786\"], [0.5555555555555556, \"#d8576b\"], [0.6666666666666666, \"#ed7953\"], [0.7777777777777778, \"#fb9f3a\"], [0.8888888888888888, \"#fdca26\"], [1.0, \"#f0f921\"]], \"type\": \"contour\"}], \"contourcarpet\": [{\"colorbar\": {\"outlinewidth\": 0, \"ticks\": \"\"}, \"type\": \"contourcarpet\"}], \"heatmap\": [{\"colorbar\": {\"outlinewidth\": 0, \"ticks\": \"\"}, \"colorscale\": [[0.0, \"#0d0887\"], [0.1111111111111111, \"#46039f\"], [0.2222222222222222, \"#7201a8\"], [0.3333333333333333, \"#9c179e\"], [0.4444444444444444, \"#bd3786\"], [0.5555555555555556, \"#d8576b\"], [0.6666666666666666, \"#ed7953\"], [0.7777777777777778, \"#fb9f3a\"], [0.8888888888888888, \"#fdca26\"], [1.0, \"#f0f921\"]], \"type\": \"heatmap\"}], \"heatmapgl\": [{\"colorbar\": {\"outlinewidth\": 0, \"ticks\": \"\"}, \"colorscale\": [[0.0, \"#0d0887\"], [0.1111111111111111, \"#46039f\"], [0.2222222222222222, \"#7201a8\"], [0.3333333333333333, \"#9c179e\"], [0.4444444444444444, \"#bd3786\"], [0.5555555555555556, \"#d8576b\"], [0.6666666666666666, \"#ed7953\"], [0.7777777777777778, \"#fb9f3a\"], [0.8888888888888888, \"#fdca26\"], [1.0, \"#f0f921\"]], \"type\": \"heatmapgl\"}], \"histogram\": [{\"marker\": {\"colorbar\": {\"outlinewidth\": 0, \"ticks\": \"\"}}, \"type\": \"histogram\"}], \"histogram2d\": [{\"colorbar\": {\"outlinewidth\": 0, \"ticks\": \"\"}, \"colorscale\": [[0.0, \"#0d0887\"], [0.1111111111111111, \"#46039f\"], [0.2222222222222222, \"#7201a8\"], [0.3333333333333333, \"#9c179e\"], [0.4444444444444444, \"#bd3786\"], [0.5555555555555556, \"#d8576b\"], [0.6666666666666666, \"#ed7953\"], [0.7777777777777778, \"#fb9f3a\"], [0.8888888888888888, \"#fdca26\"], [1.0, \"#f0f921\"]], \"type\": \"histogram2d\"}], \"histogram2dcontour\": [{\"colorbar\": {\"outlinewidth\": 0, \"ticks\": \"\"}, \"colorscale\": [[0.0, \"#0d0887\"], [0.1111111111111111, \"#46039f\"], [0.2222222222222222, \"#7201a8\"], [0.3333333333333333, \"#9c179e\"], [0.4444444444444444, \"#bd3786\"], [0.5555555555555556, \"#d8576b\"], [0.6666666666666666, \"#ed7953\"], [0.7777777777777778, \"#fb9f3a\"], [0.8888888888888888, \"#fdca26\"], [1.0, \"#f0f921\"]], \"type\": \"histogram2dcontour\"}], \"mesh3d\": [{\"colorbar\": {\"outlinewidth\": 0, \"ticks\": \"\"}, \"type\": \"mesh3d\"}], \"parcoords\": [{\"line\": {\"colorbar\": {\"outlinewidth\": 0, \"ticks\": \"\"}}, \"type\": \"parcoords\"}], \"pie\": [{\"automargin\": true, \"type\": \"pie\"}], \"scatter\": [{\"marker\": {\"colorbar\": {\"outlinewidth\": 0, \"ticks\": \"\"}}, \"type\": \"scatter\"}], \"scatter3d\": [{\"line\": {\"colorbar\": {\"outlinewidth\": 0, \"ticks\": \"\"}}, \"marker\": {\"colorbar\": {\"outlinewidth\": 0, \"ticks\": \"\"}}, \"type\": \"scatter3d\"}], \"scattercarpet\": [{\"marker\": {\"colorbar\": {\"outlinewidth\": 0, \"ticks\": \"\"}}, \"type\": \"scattercarpet\"}], \"scattergeo\": [{\"marker\": {\"colorbar\": {\"outlinewidth\": 0, \"ticks\": \"\"}}, \"type\": \"scattergeo\"}], \"scattergl\": [{\"marker\": {\"colorbar\": {\"outlinewidth\": 0, \"ticks\": \"\"}}, \"type\": \"scattergl\"}], \"scattermapbox\": [{\"marker\": {\"colorbar\": {\"outlinewidth\": 0, \"ticks\": \"\"}}, \"type\": \"scattermapbox\"}], \"scatterpolar\": [{\"marker\": {\"colorbar\": {\"outlinewidth\": 0, \"ticks\": \"\"}}, \"type\": \"scatterpolar\"}], \"scatterpolargl\": [{\"marker\": {\"colorbar\": {\"outlinewidth\": 0, \"ticks\": \"\"}}, \"type\": \"scatterpolargl\"}], \"scatterternary\": [{\"marker\": {\"colorbar\": {\"outlinewidth\": 0, \"ticks\": \"\"}}, \"type\": \"scatterternary\"}], \"surface\": [{\"colorbar\": {\"outlinewidth\": 0, \"ticks\": \"\"}, \"colorscale\": [[0.0, \"#0d0887\"], [0.1111111111111111, \"#46039f\"], [0.2222222222222222, \"#7201a8\"], [0.3333333333333333, \"#9c179e\"], [0.4444444444444444, \"#bd3786\"], [0.5555555555555556, \"#d8576b\"], [0.6666666666666666, \"#ed7953\"], [0.7777777777777778, \"#fb9f3a\"], [0.8888888888888888, \"#fdca26\"], [1.0, \"#f0f921\"]], \"type\": \"surface\"}], \"table\": [{\"cells\": {\"fill\": {\"color\": \"#EBF0F8\"}, \"line\": {\"color\": \"white\"}}, \"header\": {\"fill\": {\"color\": \"#C8D4E3\"}, \"line\": {\"color\": \"white\"}}, \"type\": \"table\"}]}, \"layout\": {\"annotationdefaults\": {\"arrowcolor\": \"#2a3f5f\", \"arrowhead\": 0, \"arrowwidth\": 1}, \"coloraxis\": {\"colorbar\": {\"outlinewidth\": 0, \"ticks\": \"\"}}, \"colorscale\": {\"diverging\": [[0, \"#8e0152\"], [0.1, \"#c51b7d\"], [0.2, \"#de77ae\"], [0.3, \"#f1b6da\"], [0.4, \"#fde0ef\"], [0.5, \"#f7f7f7\"], [0.6, \"#e6f5d0\"], [0.7, \"#b8e186\"], [0.8, \"#7fbc41\"], [0.9, \"#4d9221\"], [1, \"#276419\"]], \"sequential\": [[0.0, \"#0d0887\"], [0.1111111111111111, \"#46039f\"], [0.2222222222222222, \"#7201a8\"], [0.3333333333333333, \"#9c179e\"], [0.4444444444444444, \"#bd3786\"], [0.5555555555555556, \"#d8576b\"], [0.6666666666666666, \"#ed7953\"], [0.7777777777777778, \"#fb9f3a\"], [0.8888888888888888, \"#fdca26\"], [1.0, \"#f0f921\"]], \"sequentialminus\": [[0.0, \"#0d0887\"], [0.1111111111111111, \"#46039f\"], [0.2222222222222222, \"#7201a8\"], [0.3333333333333333, \"#9c179e\"], [0.4444444444444444, \"#bd3786\"], [0.5555555555555556, \"#d8576b\"], [0.6666666666666666, \"#ed7953\"], [0.7777777777777778, \"#fb9f3a\"], [0.8888888888888888, \"#fdca26\"], [1.0, \"#f0f921\"]]}, \"colorway\": [\"#636efa\", \"#EF553B\", \"#00cc96\", \"#ab63fa\", \"#FFA15A\", \"#19d3f3\", \"#FF6692\", \"#B6E880\", \"#FF97FF\", \"#FECB52\"], \"font\": {\"color\": \"#2a3f5f\"}, \"geo\": {\"bgcolor\": \"white\", \"lakecolor\": \"white\", \"landcolor\": \"#E5ECF6\", \"showlakes\": true, \"showland\": true, \"subunitcolor\": \"white\"}, \"hoverlabel\": {\"align\": \"left\"}, \"hovermode\": \"closest\", \"mapbox\": {\"style\": \"light\"}, \"paper_bgcolor\": \"white\", \"plot_bgcolor\": \"#E5ECF6\", \"polar\": {\"angularaxis\": {\"gridcolor\": \"white\", \"linecolor\": \"white\", \"ticks\": \"\"}, \"bgcolor\": \"#E5ECF6\", \"radialaxis\": {\"gridcolor\": \"white\", \"linecolor\": \"white\", \"ticks\": \"\"}}, \"scene\": {\"xaxis\": {\"backgroundcolor\": \"#E5ECF6\", \"gridcolor\": \"white\", \"gridwidth\": 2, \"linecolor\": \"white\", \"showbackground\": true, \"ticks\": \"\", \"zerolinecolor\": \"white\"}, \"yaxis\": {\"backgroundcolor\": \"#E5ECF6\", \"gridcolor\": \"white\", \"gridwidth\": 2, \"linecolor\": \"white\", \"showbackground\": true, \"ticks\": \"\", \"zerolinecolor\": \"white\"}, \"zaxis\": {\"backgroundcolor\": \"#E5ECF6\", \"gridcolor\": \"white\", \"gridwidth\": 2, \"linecolor\": \"white\", \"showbackground\": true, \"ticks\": \"\", \"zerolinecolor\": \"white\"}}, \"shapedefaults\": {\"line\": {\"color\": \"#2a3f5f\"}}, \"ternary\": {\"aaxis\": {\"gridcolor\": \"white\", \"linecolor\": \"white\", \"ticks\": \"\"}, \"baxis\": {\"gridcolor\": \"white\", \"linecolor\": \"white\", \"ticks\": \"\"}, \"bgcolor\": \"#E5ECF6\", \"caxis\": {\"gridcolor\": \"white\", \"linecolor\": \"white\", \"ticks\": \"\"}}, \"title\": {\"x\": 0.05}, \"xaxis\": {\"automargin\": true, \"gridcolor\": \"white\", \"linecolor\": \"white\", \"ticks\": \"\", \"title\": {\"standoff\": 15}, \"zerolinecolor\": \"white\", \"zerolinewidth\": 2}, \"yaxis\": {\"automargin\": true, \"gridcolor\": \"white\", \"linecolor\": \"white\", \"ticks\": \"\", \"title\": {\"standoff\": 15}, \"zerolinecolor\": \"white\", \"zerolinewidth\": 2}}}, \"xaxis\": {\"anchor\": \"y\", \"domain\": [0.0, 1.0], \"title\": {\"text\": \"timestep\"}}, \"yaxis\": {\"anchor\": \"x\", \"domain\": [0.0, 1.0], \"title\": {\"text\": \"value\"}}},                        {\"responsive\": true}                    ).then(function(){\n",
       "                            \n",
       "var gd = document.getElementById('14bba1bd-0422-40b8-b3ac-42c1349bb482');\n",
       "var x = new MutationObserver(function (mutations, observer) {{\n",
       "        var display = window.getComputedStyle(gd).display;\n",
       "        if (!display || display === 'none') {{\n",
       "            console.log([gd, 'removed!']);\n",
       "            Plotly.purge(gd);\n",
       "            observer.disconnect();\n",
       "        }}\n",
       "}});\n",
       "\n",
       "// Listen for the removal of the full notebook cells\n",
       "var notebookContainer = gd.closest('#notebook-container');\n",
       "if (notebookContainer) {{\n",
       "    x.observe(notebookContainer, {childList: true});\n",
       "}}\n",
       "\n",
       "// Listen for the clearing of the current output cell\n",
       "var outputEl = gd.closest('.output');\n",
       "if (outputEl) {{\n",
       "    x.observe(outputEl, {childList: true});\n",
       "}}\n",
       "\n",
       "                        })                };                });            </script>        </div>"
      ]
     },
     "metadata": {},
     "output_type": "display_data"
    }
   ],
   "source": [
    "df[df.timestep >= 1].plot(kind='line', x='timestep', y=['agent_default_count'])"
   ]
  },
  {
   "cell_type": "markdown",
   "metadata": {},
   "source": [
    "# System Validation\n",
    "\n",
    "## Model Limitations\n",
    "1. The chance of default is set to 10% for a given agent - realistically this number is affected by a number of factors for an example: the size of prize and standing, if you have been selected to take the pooled money first without contributing any money yet.\n",
    "2. Agents in this system are not incentivised or disincentived"
   ]
  },
  {
   "cell_type": "markdown",
   "metadata": {},
   "source": [
    "## Model Improvements\n",
    "\n",
    "[Requirements Analysis](#Requirements-Analysis)\n",
    "\n",
    "Looking at the requirements we set out, we have created a simple ROSCA model which presents the dynamics of a ROSCA circle on a blockchain network where participants can carry out two core actions: contributing to the pool and receiving from the pool. \n",
    "\n",
    "[Questions](#Questions)\n",
    "\n",
    "#### How can we extend this model to introduce additional complexity to more fit real world implementations?\n",
    "  * We can define specific agent behaviour and test what happens under different scenarios. Here we have randomly set a 10% chance for an agent defaulting - this can be a more precise number considering a range of factors and possible actions\n",
    "  * We can model the two types of rosca circle. Here we have modelled a 'trusted rosca circle' in which we don't assign an agent trust rating and according to this consider their 'standing' or turn to take the pot\n",
    "  * Design incentives to ensure agents behave in a way that fufils protocol\n",
    "  * Design mechanisms outlined in Interim Report, eg: voting and borrowing, building of our core mechanisms defined here."
   ]
  },
  {
   "cell_type": "code",
   "execution_count": null,
   "metadata": {},
   "outputs": [],
   "source": []
  }
 ],
 "metadata": {
  "kernelspec": {
   "display_name": "Python 3",
   "language": "python",
   "name": "python3"
  },
  "language_info": {
   "codemirror_mode": {
    "name": "ipython",
    "version": 3
   },
   "file_extension": ".py",
   "mimetype": "text/x-python",
   "name": "python",
   "nbconvert_exporter": "python",
   "pygments_lexer": "ipython3",
   "version": "3.8.5"
  }
 },
 "nbformat": 4,
 "nbformat_minor": 4
}
