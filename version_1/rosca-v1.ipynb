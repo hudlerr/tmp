{
 "cells": [
  {
   "cell_type": "markdown",
   "metadata": {},
   "source": [
    "<span style=\"display:block;text-align:center;margin-right:105px\"></span>\n",
    "\n",
    "# Blockchain based ROSCA - version 1\n",
    "---\n",
    "\n",
    "* [System Requirements (Part 1)](#System-Requirements)\n",
    "  * [Model Introduction](#Model-Introduction)\n",
    "  * [cadCad Overview](#cadCad-Overview)\n",
    "  * [Requirements Analysis](#Requirements-Analysis)\n",
    "  * [Visual System Mapping: Entity Relationship Diagram](#Visual-System-Mapping:-Entity-Relationship-Diagram)\n",
    "  * [Visual System Mapping: Stock & Flow Diagram](#Visual-System-Mapping:-Stock-&-Flow-Diagram)\n",
    "  * [Mathematical Specification](#Mathematical-Specification)\n",
    "* [System Design (Part 2)](#System-Design)\n",
    "  * [Differential Specification](#Differential-Specification)\n",
    "  * [cadCAD Standard Notebook Layout](#cadCAD-Standard-Notebook-Layout)\n",
    "    0. [Dependencies](#0.-Dependencies)\n",
    "    1. [State Variables](#1.-State-Variables)\n",
    "    2. [System Parameters](#2.-System-Parameters)\n",
    "    3. [Policy Functions](#3.-Policy-Functions)\n",
    "    4. [State Update Functions](#4.-State-Update-Functions)\n",
    "    5. [Partial State Update Blocks](#5.-Partial-State-Update-Blocks)\n",
    "    6. [Configuration](#6.-Configuration)\n",
    "    7. [Execution](#7.-Execution)\n",
    "    8. [Simulation Output Preparation](#8.-Simulation-Output-Preparation)\n",
    "    9. [Simulation Analysis](#9.-Simulation-Analysis)\n",
    "* [System Validation (Part 3)](#System-Validation)\n",
    "    * [Model Limitations](#Model-Limitations)\n",
    "    * [Model Improvements](#Model-Improvements)\n",
    "---\n",
    "\n",
    "# System Requirements\n",
    "\n",
    "## Model Introduction\n",
    "> ROSCAs are informal saving and credit institutions, whereby members pool together regular savings with are then dispersed to a member, either by random or based on the greatest need. This continues until every member has received the pot. \n",
    "\n",
    "ROSCAs are traditionally operated in small group within communities. I have found ROSCAs stand to be improved using blockchain technology - my review has demonstrated that blockchain technology certainly has the potential to create a more democratic, transparent truly peer-to-peer system. This has been proven by groups such as <a href=\"https://tlc.wetrust.io/\">WeTRUST</a> who are attempting to: `\"Create a blockchain-based Lending Circle dApp promoting financial inclusion and lay the groundwork for new financial tools for unbanked and underserved people throughout the world.\"` \n",
    "\n",
    "Having explored the profound social and economic implications of decentralized ledger technologies on ROSCAs, there is an implied pressing need for sustainable system design, which brings us to cadCad (complex adaptive dynamics Computer-aided design) which helps in designing, optimising, validating and understanding trivially non-complex, dynamical systems.\n",
    "\n",
    "## cadCad Overview\n",
    "cadCAD: Python library, assisting in the process of designing, testing and validating complex/economic systems through simulation. Allows you to ask powerful 'what-if' questions about your system, using simulation features such as A/B tests, parameter sweeps and Monte-Carlo analysis. \n",
    "\n",
    "These 'what-if' questions can concern system internal factors (eg. agent behaviours, system parameters) or system external factors (eg. market conditions, competitive activity). cadCad can model systems with various levels of abstractions from micro-level agent modelling to macro-level system dynamics.\n",
    "\n",
    "\n",
    "## Requirements Analysis\n",
    "Our goal for version 1 is to get an initial ROSCA circle running in a cadCad simulation environment. \n",
    "In this notebook, we want to: \n",
    "1. Present the dynamics of a single 'trusted' ROSCA circle on a peer-to-peer decentralised network where agents share a common view of the chain \n",
    "2. Define simple strategies for agents to: intiate intial ROSCA circle, be set a contribution amount set by initiator, be allocated the pot in a random order\n",
    "3. Understand the basic space of decision making of players in the protocol\n",
    "\n",
    "With this information, hopefully having demonstrated we can, in fact, reach our goal of `a fair, democratic, decentralised model solution of ROSCA`, we can build off of this version to implement:\n",
    "1. Neccessary mechanisms eg: voting, borrowing \n",
    "2. Design incentives\n",
    "3. Implement two types of circles (trusted & non-trusted)\n",
    "4. Understand how agent behaviours map to the incentives (rewards, penaties, general outcomes)\n",
    "5. Produce rich agent-based models\n",
    "\n",
    "### Questions\n",
    "1. What sort of mechanisms/incentives would we need to ensure agents participate in a way that fufils the systems goals\n",
    "2. What are the penalties to deincentivise dishonest behaviour\n",
    "3. What information is available to agents when their decisions are made\n",
    "\n",
    "\n",
    "## Visual System Mapping: Entity Relationship Diagram\n",
    "\n",
    "<!-- ![Entity Relationship diagram](images/entity.png) -->\n",
    "<img src=\"images/entity.png\">\n",
    "\n",
    "At its simplest, the system allows for two core actions: `a participant contributing to the pool`, and `a participant receiving from the pool`. This takes into account a participants standing within the circle.\n",
    "\n",
    "## Visual System Mapping: Stock & Flow Diagram\n",
    "\n",
    "![Stock & Flow Diagram](./images/stockflow.png)\n",
    "\n",
    "Represents and encodes the mathematical structure of a model. We identify a single stock, money pool, which gets its input from the source c, contributions from members and has a sink a, allocating to a participant in a given month.\n",
    "\n",
    "## Mathematical Specification\n",
    "\n",
    "![Math Spec](./images/spec.png)\n",
    "\n",
    "The above differential equation gives a more formal mathematical representation of the 'money pool' physical quantity. The money in the pool at a given timestep, t is equal to the amount in the previous timestep, add c, the total sum of monthly agent contribution amount, minus a, the the amount allocated to agent (their monthly contribution * duration) \n",
    "\n",
    "---\n",
    "\n",
    "# System Design\n",
    "\n",
    "## Differential Specification\n",
    "\n",
    "![Differential Spec](./images/diff.png)\n",
    "\n",
    "In the cadCAD simulation methodology, we operate on four layers: Policies, Mechanisms, States, and Metrics. \n",
    "* Policies determine the inputs into the system dynamics, and can come from user input, observations from the exogenous environment, or algorithms. \n",
    "* Mechanisms are functions that take the policy decisions and update the States to reflect the policy level changes.\n",
    "* States are variables that represent the system quantities at the given point in time \n",
    "* Metrics are computed from state variables to assess the health of the system. Metrics can often be thought of as KPIs, or Key Performance Indicators.\n",
    "\n",
    "## cadCAD Standard Notebook Layout\n",
    "<center>\n",
    "<img src=\"./images/cadcad-flow.png\"\n",
    "     alt=\"cadCAD flow\"\n",
    "     style=\"width: 25%;\" />\n",
    "</center>\n",
    "\n",
    "# 0. Dependencies"
   ]
  },
  {
   "cell_type": "code",
   "execution_count": 24,
   "metadata": {},
   "outputs": [],
   "source": [
    "# Standard libraries: https://docs.python.org/3/library/\n",
    "import math\n",
    "import secrets\n",
    "import random\n",
    "\n",
    "# Analysis and plotting modules\n",
    "import pandas as pd\n",
    "import numpy as np\n",
    "\n",
    "# Logic\n",
    "import base_blockchain\n",
    "from agents import (AgentData, update_contribution_amount, verify_allocated_amount, get_monthly_default_count)\n",
    "from circle import (initialise_circle_state, update_circle_state, get_total_active_balance, get_total_montly_contribution)\n",
    "from chain import(create_block)\n",
    "from utils import (pounds_to_eth, eth_to_pounds)"
   ]
  },
  {
   "cell_type": "code",
   "execution_count": 25,
   "metadata": {},
   "outputs": [],
   "source": [
    "# cadCAD configuration modules\n",
    "from cadCAD.configuration.utils import config_sim\n",
    "from cadCAD.configuration import Experiment\n",
    "\n",
    "# cadCAD simulation engine modules\n",
    "from cadCAD.engine import ExecutionMode, ExecutionContext\n",
    "from cadCAD.engine import Executor\n",
    "\n",
    "blockchain = base_blockchain.BlockChain()"
   ]
  },
  {
   "cell_type": "markdown",
   "metadata": {},
   "source": [
    "# 1. State Variables"
   ]
  },
  {
   "cell_type": "markdown",
   "metadata": {},
   "source": [
    "> A state variable is one of the set of variables that are used to describe the mathematical \"state\" of a dynamical system. ([Wikipedia](https://en.wikipedia.org/wiki/State_variable))"
   ]
  },
  {
   "cell_type": "markdown",
   "metadata": {},
   "source": [
    "### Genesis state and genesis block\n",
    "Dynamical systems are usually rather compact to define. We need at the very least two things:\n",
    "1. Some initial state.\n",
    "2. The dynamics, or how state evolves over time.\n",
    "\n",
    "In this part we'll focus on the intial state. \n",
    "We'll create a genesis state, with 10 participants who each are set to pay 0.21 ETH (£300) into the money pool for a set term of 10 months, using a randomised turn system."
   ]
  },
  {
   "cell_type": "code",
   "execution_count": 26,
   "metadata": {},
   "outputs": [],
   "source": [
    "# Create an array of `AgentData` objects\n",
    "def get_initial_deposits(n):\n",
    "    agent = [AgentData(secrets.token_bytes(48), pounds_to_eth(300), i, 0, False, 0, False)\n",
    "             for i in range(n)]\n",
    "    return agent"
   ]
  },
  {
   "cell_type": "code",
   "execution_count": 27,
   "metadata": {},
   "outputs": [
    {
     "name": "stdout",
     "output_type": "stream",
     "text": [
      "New ROSCA circle created - Hudas saving circle :)\n"
     ]
    }
   ],
   "source": [
    "# intialise a rosca circle \n",
    "circle_ = initialise_circle_state(\"Hudas saving circle :)\", get_initial_deposits(10))"
   ]
  },
  {
   "cell_type": "code",
   "execution_count": 28,
   "metadata": {},
   "outputs": [
    {
     "name": "stdout",
     "output_type": "stream",
     "text": [
      "Added block: 12, hash - 5e640a9d57f7b51ffd55cc7028338d4cddf93ff51187deefbc1db7b5507a9fd0, prev_hash - 67b6e994d2336a9fd227a603415e1c127df6c565b753e601d2411d1503f02df0, timestep - 0\n"
     ]
    }
   ],
   "source": [
    "# create initial block for the groups blockchain\n",
    "genesis_state = create_block(circle_)"
   ]
  },
  {
   "cell_type": "markdown",
   "metadata": {},
   "source": [
    "\n",
    "![Code Layout](images/layout.png)\n",
    "Now we have created our rosca circle, and have processed a genesis block, with the code workflow above for clarity. Finally, we set the genesis state as the initial condition to our cadCAD execution"
   ]
  },
  {
   "cell_type": "code",
   "execution_count": 6,
   "metadata": {},
   "outputs": [],
   "source": [
    "initial_conditions = {\n",
    "    'pool_state': genesis_state\n",
    "}"
   ]
  },
  {
   "cell_type": "markdown",
   "metadata": {},
   "source": [
    "## **Time** as a system state\n",
    "* 1 **timestep** == 1 month"
   ]
  },
  {
   "cell_type": "markdown",
   "metadata": {},
   "source": [
    "# 2. System Parameters\n",
    "> System parameterization is the process of choosing variables that impact the behaviour of the model. These parameters allow us to perform simulation techniques like parameter sweeps, Monte Carlo simulations, A/B tests, and see how the system behaves under a different model parameter set."
   ]
  },
  {
   "cell_type": "code",
   "execution_count": 7,
   "metadata": {},
   "outputs": [
    {
     "data": {
      "text/plain": [
       "{'duration': [10]}"
      ]
     },
     "execution_count": 7,
     "metadata": {},
     "output_type": "execute_result"
    }
   ],
   "source": [
    "system_params = {\n",
    "    'duration': [10], # duration of rosca circle\n",
    "}\n",
    "system_params"
   ]
  },
  {
   "cell_type": "markdown",
   "metadata": {},
   "source": [
    "# 3. Policy Functions\n",
    "\n",
    "> A Policy Function computes one or more signals to be passed to State Update Functions. They describe the logic  and behaviour of a system component  or mechanism."
   ]
  },
  {
   "cell_type": "markdown",
   "metadata": {},
   "source": [
    "#### In our differential specification, we identified two policies: \n",
    "1. A system decision - a monthly collection from agents \n",
    "2. A player decision - the decision to contribute the amount set out\n",
    "Given a player decision we can distinguish between the default honest agent who pays their monthly contribution, and a randomised dishonest agent who doesn't contribute their monthly amount"
   ]
  },
  {
   "cell_type": "code",
   "execution_count": 29,
   "metadata": {},
   "outputs": [],
   "source": [
    "# player decision\n",
    "def randomised_agent_contribution(agent, amount):\n",
    "    if random.random() < 0.1: # 10% chance player will default\n",
    "        agent.defaulted = True\n",
    "        print(\"Agent defaulted. Amount: \" + str(amount))\n",
    "        return False\n",
    "    else :\n",
    "        agent.defaulted = False\n",
    "        return True"
   ]
  },
  {
   "cell_type": "markdown",
   "metadata": {},
   "source": [
    "We now define the policy function, again using the arguments that the cadCAD environment gives us. In this simulation, we'll assume that there is a 10% chance of an agent defaulting."
   ]
  },
  {
   "cell_type": "code",
   "execution_count": 30,
   "metadata": {},
   "outputs": [],
   "source": [
    "# system policy - initate monthly contributions\n",
    "def p_intitiate_monthly_deposits(params, substep, state_history, previous_state):\n",
    "    month_sum = 0.0\n",
    "    pool = previous_state['pool_state']\n",
    "    block_agent_data = pool.data[0]['data']\n",
    "    \n",
    "    print(\"\\n\" + \"STARTING ROSCA MONTH \" + str(pool.data[0]['timestep']))\n",
    "    \n",
    "    # for each agent add their monthly contribution to the collected pool\n",
    "    for x in range(0, len(block_agent_data)):\n",
    "        agent_contribution = eth_to_pounds(block_agent_data[x].amount)\n",
    "\n",
    "        # player decision\n",
    "        if(randomised_agent_contribution(block_agent_data[x], agent_contribution) == True):\n",
    "            month_sum += agent_contribution # c - from differential eq\n",
    "            block_agent_data[x].contributed_amt += agent_contribution # update agent contributed amount\n",
    "    print(\"Total deposited amount: GBP\" + str(month_sum))\n",
    "    return {'collected_amount': month_sum}   # todo: validate sum at later stage"
   ]
  },
  {
   "cell_type": "markdown",
   "metadata": {},
   "source": [
    "# 4. State Update Functions\n",
    "> We create State Update Functions to design the way our model state changes over time. These will usually represent the system differential specification.\n",
    "\n",
    "```python\n",
    "def state_update_function(params, substep, state_history, previous_state, policy_input):\n",
    "    variable_value = 0\n",
    "    return 'variable_name', variable_value\n",
    "```\n",
    "\n",
    "* `params` is a Python dictionary containing the **system parameters** <!-- for consistency with the previous definition -->\n",
    "* `substep` is an integer value representing a step within a single `timestep`\n",
    "* `state_history` is a Python list of all previous states\n",
    "* `previous_state` is a Python dictionary that defines what the state of the system was at the **previous timestep** or **substep**\n",
    "* `policy_input` is a Python dictionary of signals or actions from **policy functions**"
   ]
  },
  {
   "cell_type": "markdown",
   "metadata": {},
   "source": [
    "### State evolution with block proposals\n",
    "We can now move on to defining the dynamics. Simple dynamical systems follow some rules to update their state, e.g., the orbits of planets are given by laws derived from attraction. More complex systems are controlled: decisions made by agents in the system influence the state evolution.\n",
    "\n",
    "In our setting, these agents are ROSCA participants. State evolution is governed by the rules set out by the system, while participants get to decide on putting in a transaction or defaulting. The resulting state is a combination of agent decisions and state updates. How participants make these decisions is embodied by policy functions: given a state, make a decision.\n",
    "\n",
    "At the start of the process, the `genesis_state` defined above is `M(t-1)`, to update the state of the moneypool to `M(t)` we need to calculate `c - the amount collected from agents` and `α - the amount which is allocated`. Having defined the system policy for intiating monthly collections, we break the following actions into 2 steps:"
   ]
  },
  {
   "cell_type": "markdown",
   "metadata": {},
   "source": [
    "#### 1. Allocate pool to agent according to standing within the circle "
   ]
  },
  {
   "cell_type": "code",
   "execution_count": 31,
   "metadata": {},
   "outputs": [],
   "source": [
    "# Allocate to agent according to standing\n",
    "def allocate_pool(genesis_state, timestep, duration, p_collected_amt):\n",
    "    block_agent_data = genesis_state.data[0]['data']\n",
    "    pool_amount = p_collected_amt\n",
    "\n",
    "    for x in range(0, len(block_agent_data)):\n",
    "        if(block_agent_data[x].standing == timestep and block_agent_data[x].taken == False):\n",
    "            allocation_amt = eth_to_pounds(duration*block_agent_data[x].amount) # a - from differential eq\n",
    "\n",
    "            ## calculate allocating amount from policy\n",
    "            if(verify_allocated_amount(block_agent_data[x], allocation_amt, pool_amount) == True):\n",
    "                print(\"allocation_amt \" + str(allocation_amt) + \", pool_amount\" + str(pool_amount))\n",
    "                block_agent_data[x].taken = True\n",
    "                pool_amount -= allocation_amt\n",
    "            else :\n",
    "                print(\"Not enough money in pool to allocate agent full amount of: \" + str(allocation_amt) + \"\\n\")    \n",
    "                allocation_amt = pool_amount\n",
    "                block_agent_data[x].taken = False\n",
    "                pool_amount = 0\n",
    "                \n",
    "            print(\"Allocating agent: \" + str(block_agent_data[x].pubkey) + \", standing: \" + str(block_agent_data[x].standing) + \", amount: GBP\" + str(allocation_amt))\n",
    "            block_agent_data[x].balance += allocation_amt\n",
    "    return pool_amount"
   ]
  },
  {
   "cell_type": "markdown",
   "metadata": {},
   "source": [
    "#### 2. Update state of circle and proccess and add block"
   ]
  },
  {
   "cell_type": "code",
   "execution_count": 32,
   "metadata": {},
   "outputs": [],
   "source": [
    "def new_pool_state(genesis_state, timestep, duration, p_collected_amt):    \n",
    "    \n",
    "    new_pool_amount = allocate_pool(genesis_state, timestep, duration, p_collected_amt)    \n",
    "    updateCircle_ = update_circle_state(genesis_state.data[0]['name'], timestep+1, p_collected_amt, new_pool_amount, genesis_state.data[0]['data'])\n",
    "    new_block = create_block(updateCircle_) # create block\n",
    "    print(\"Pool amount: GBP\" + str(get_total_active_balance(updateCircle_)))\n",
    "    print(\"ENDING PROCESS\")\n",
    "        \n",
    "    return new_block"
   ]
  },
  {
   "cell_type": "code",
   "execution_count": 33,
   "metadata": {},
   "outputs": [],
   "source": [
    "# Relevant state variables\n",
    "current_pool_state = initial_conditions['pool_state']\n",
    "\n",
    "# Relevant parameters\n",
    "duration = system_params['duration'][0] #  from \"alpha\" in our differential equation"
   ]
  },
  {
   "cell_type": "code",
   "execution_count": 34,
   "metadata": {},
   "outputs": [],
   "source": [
    "def s_updatepool(params, substep, state_history, previous_state, policy_input):\n",
    "    \"\"\"\n",
    "    Update the pool state according to the differential equation (1):\n",
    "    current_pool_state + collected_amount - allocation_amount\n",
    "    \"\"\"\n",
    "    pool = previous_state['pool_state']\n",
    "    duration = params['duration']\n",
    "    calc_timestep = pool.data[0]['timestep'] \n",
    "    p_collected_amt = policy_input['collected_amount']\n",
    "    \n",
    "    return 'pool_state', new_pool_state(pool, calc_timestep, duration, p_collected_amt)"
   ]
  },
  {
   "cell_type": "markdown",
   "metadata": {},
   "source": [
    "# 5. Partial State Update Blocks\n",
    "> A series of Partial State Update Blocks is a structure for composing State Update Functions and Policy Functions in series or parallel, as a representation of the system model. "
   ]
  },
  {
   "cell_type": "markdown",
   "metadata": {},
   "source": [
    "<center>\n",
    "<img src=\"./images/basic-psub.png\"\n",
    "     alt=\"Policy functions\"\n",
    "     style=\"width: 60%;\" />\n",
    "</center>"
   ]
  },
  {
   "cell_type": "code",
   "execution_count": 35,
   "metadata": {},
   "outputs": [],
   "source": [
    "partial_state_update_blocks = [\n",
    "    {\n",
    "        'policies': {\n",
    "            'collected_amount': p_intitiate_monthly_deposits,\n",
    "        }, \n",
    "        # State variables\n",
    "        'variables': {\n",
    "            # Updated in parallel\n",
    "            'pool_state': s_updatepool,\n",
    "        }\n",
    "    }\n",
    "]"
   ]
  },
  {
   "cell_type": "markdown",
   "metadata": {},
   "source": [
    "# 6. Configuration\n",
    "> The configuration stage is about tying all the previous model components together and choosing how the simulation should run.\n",
    "\n",
    "![Flow](./images/cadflow2.png)"
   ]
  },
  {
   "cell_type": "markdown",
   "metadata": {},
   "source": [
    "Configuration parameters:\n",
    "* `'N': 1` - the number of times we'll run the simulation (called \"Monte Carlo runs\" later)\n",
    "* `'T': range(10)` - the number of timesteps the simulation will run for\n",
    "* `'M': system_params` - the parameters of the system"
   ]
  },
  {
   "cell_type": "code",
   "execution_count": 36,
   "metadata": {},
   "outputs": [],
   "source": [
    "sim_config = config_sim({\n",
    "    \"N\": 1,\n",
    "    \"T\": range(10),\n",
    "    \"M\": system_params\n",
    "})"
   ]
  },
  {
   "cell_type": "code",
   "execution_count": 37,
   "metadata": {},
   "outputs": [],
   "source": [
    "from cadCAD import configs\n",
    "del configs[:] # Clear any prior configs"
   ]
  },
  {
   "cell_type": "code",
   "execution_count": 38,
   "metadata": {},
   "outputs": [
    {
     "data": {
      "text/plain": [
       "{'sim_config': {'N': 1,\n",
       "  'T': range(0, 10),\n",
       "  'M': {'duration': 10},\n",
       "  'subset_id': 0,\n",
       "  'subset_window': deque([0, None]),\n",
       "  'simulation_id': 0,\n",
       "  'run_id': 0},\n",
       " 'initial_state': {'pool_state': 1 - 88914 - ba235a378a42bcd66d5913a44e8cda271b29d429c94cf07abb6f06ea9bb1fd12 - [{'name': 'Hudas saving circle :)', 'timestep': 0, 'collected_amt': 0.0, 'balance': 0.0, 'data': [<agents.AgentData object at 0x10cda95b0>, <agents.AgentData object at 0x10cda9220>, <agents.AgentData object at 0x10cda9040>, <agents.AgentData object at 0x10cda9130>, <agents.AgentData object at 0x10cda90d0>, <agents.AgentData object at 0x10cda9100>, <agents.AgentData object at 0x10cda91f0>, <agents.AgentData object at 0x10cda9070>, <agents.AgentData object at 0x10cd5c2e0>, <agents.AgentData object at 0x10cd8c1f0>]}] - 1615811893.528544},\n",
       " 'seeds': {},\n",
       " 'env_processes': {},\n",
       " 'exogenous_states': {},\n",
       " 'partial_state_updates': [{'policies': {'collected_amount': <function __main__.p_intitiate_monthly_deposits(params, substep, state_history, previous_state)>},\n",
       "   'variables': {'pool_state': <function __main__.s_updatepool(params, substep, state_history, previous_state, policy_input)>}}],\n",
       " 'policy_ops': [<function cadCAD.configuration.Experiment.<lambda>(a, b)>],\n",
       " 'kwargs': {},\n",
       " 'user_id': 'cadCAD_user',\n",
       " 'session_id': 'cadCAD_user=0_0',\n",
       " 'simulation_id': 0,\n",
       " 'run_id': 0,\n",
       " 'experiment_id': 0,\n",
       " 'exp_window': deque([1, 0]),\n",
       " 'subset_id': 0,\n",
       " 'subset_window': deque([0, None])}"
      ]
     },
     "execution_count": 38,
     "metadata": {},
     "output_type": "execute_result"
    }
   ],
   "source": [
    "experiment = Experiment()\n",
    "experiment.append_configs(\n",
    "    initial_state = initial_conditions,\n",
    "    partial_state_update_blocks = partial_state_update_blocks,\n",
    "    sim_configs = sim_config\n",
    ")\n",
    "configs[-1].__dict__"
   ]
  },
  {
   "cell_type": "markdown",
   "metadata": {},
   "source": [
    "# 7. Execution\n",
    "\n",
    "> The Execution Engine takes a model and configuration, and computes the simulation output.\n",
    "\n",
    "## Configuring the cadCAD simulation execution"
   ]
  },
  {
   "cell_type": "code",
   "execution_count": 39,
   "metadata": {},
   "outputs": [],
   "source": [
    "exec_context = ExecutionContext()"
   ]
  },
  {
   "cell_type": "code",
   "execution_count": 40,
   "metadata": {},
   "outputs": [],
   "source": [
    "simulation = Executor(exec_context=exec_context, configs=configs)"
   ]
  },
  {
   "cell_type": "markdown",
   "metadata": {},
   "source": [
    "## We can now simulate our ROSCA model!"
   ]
  },
  {
   "cell_type": "code",
   "execution_count": 41,
   "metadata": {
    "scrolled": true
   },
   "outputs": [
    {
     "name": "stdout",
     "output_type": "stream",
     "text": [
      "\n",
      "                  ___________    ____\n",
      "  ________ __ ___/ / ____/   |  / __ \\\n",
      " / ___/ __` / __  / /   / /| | / / / /\n",
      "/ /__/ /_/ / /_/ / /___/ ___ |/ /_/ /\n",
      "\\___/\\__,_/\\__,_/\\____/_/  |_/_____/\n",
      "by cadCAD\n",
      "\n",
      "Execution Mode: local_proc\n",
      "Configuration Count: 1\n",
      "Dimensions of the first simulation: (Timesteps, Params, Runs, Vars) = (10, 1, 1, 1)\n",
      "Execution Method: local_simulations\n",
      "SimIDs   : [0]\n",
      "SubsetIDs: [0]\n",
      "Ns       : [0]\n",
      "ExpIDs   : [0]\n",
      "Execution Mode: single_threaded\n",
      "\n",
      "STARTING ROSCA MONTH 0\n",
      "Agent defaulted. Amount: 300.0\n",
      "Agent defaulted. Amount: 300.0\n",
      "Total deposited amount: GBP2400.0\n",
      "Not enough money in pool to allocate agent full amount of: 3000.0\n",
      "\n",
      "Allocating agent: b'\\xd8=q\\x80.OdM\\x18\\xd0\\x9c/\\xdc36Q\\xc7\\xc9\\xdf\\x05\\xa9m\\x010i\\xaf\\xb3St\\x83\\xb4O\\x1cU\\xf97\\xce\\xb4O\\x9e\\x14\\xf98\\xbc\\xf5\\xc3\\xe7\\xd7', standing: 0, amount: GBP2400.0\n",
      "Updating circle state..\n",
      "Added block: 13, hash - 9cda2da4fc93609b0e3531ecf7eea1d0f92a8abb2a7e295dee055395ee176f40, prev_hash - 5e640a9d57f7b51ffd55cc7028338d4cddf93ff51187deefbc1db7b5507a9fd0, timestep - 1\n",
      "Pool amount: GBP0\n",
      "ENDING PROCESS\n",
      "\n",
      "STARTING ROSCA MONTH 1\n",
      "Agent defaulted. Amount: 300.0\n",
      "Total deposited amount: GBP2700.0\n",
      "Not enough money in pool to allocate agent full amount of: 3000.0\n",
      "\n",
      "Allocating agent: b'\\xe3\\r1]\\xd8\\xba\\x94\\x19s\\x8a\\xd9J\\x12<\\xb5\\x99y\\xeb`\\x85#7\\xfd\\x08\\xae\\x11\\xac\\nGT>\\x9e\\x08t\\x06\\xca`p\\x8c\\xa8,\\xeeOA\\xcd\\xaa\\x98`', standing: 1, amount: GBP2700.0\n",
      "Updating circle state..\n",
      "Added block: 14, hash - 7aac7d74237dd2e4ea02c8b71711929acf4b771128adbffaaec7b24f5de6a908, prev_hash - 9cda2da4fc93609b0e3531ecf7eea1d0f92a8abb2a7e295dee055395ee176f40, timestep - 2\n",
      "Pool amount: GBP0\n",
      "ENDING PROCESS\n",
      "\n",
      "STARTING ROSCA MONTH 2\n",
      "Agent defaulted. Amount: 300.0\n",
      "Total deposited amount: GBP2700.0\n",
      "Not enough money in pool to allocate agent full amount of: 3000.0\n",
      "\n",
      "Allocating agent: b\"\\x9f\\x9a\\xb0\\xb0\\xd5\\xa1\\xa4\\xc25\\xdd\\x92L\\xf0\\xa4<\\xc9\\xf6\\xb0\\x9f\\xe5\\x7f&z[\\xda\\xc9\\x03\\xf5\\x1b\\xd4'\\xf4\\x99\\x9d\\xdd\\xd9M\\xe0\\x1c\\x93\\xd2\\xf6\\xca\\x99\\x8e\\xf3\\xdd\\x17\", standing: 2, amount: GBP2700.0\n",
      "Updating circle state..\n",
      "Added block: 15, hash - 0af0568d41188bf9b3281504ee096a5f0db65b6d39e41a20f18e00ec9c21c4d9, prev_hash - 7aac7d74237dd2e4ea02c8b71711929acf4b771128adbffaaec7b24f5de6a908, timestep - 3\n",
      "Pool amount: GBP0\n",
      "ENDING PROCESS\n",
      "\n",
      "STARTING ROSCA MONTH 3\n",
      "Total deposited amount: GBP3000.0\n",
      "allocation_amt 3000.0, pool_amount3000.0\n",
      "Allocating agent: b'\\xa8XL\\xde\\x93\\x05\\x1e\\x8d\"\\xa9\\xd6\\x8a\\xe1\\xfa\\xb6\\xa5&\\x9a\\x00\\xac\\x16\\x7fd\\x81\\xba>\\xe8\\xdb\\xe1V\\xab\\x08\\xf1\\xfd^\\xd3\\xc0\\x9b\\x87\\xfb\\x8dt\\x80O\\x91:\\xff|', standing: 3, amount: GBP3000.0\n",
      "Updating circle state..\n",
      "Added block: 16, hash - 0f7436e0726e27cc7f8eb1032eb20e777b68a60a048f4962e78b08af42976224, prev_hash - 0af0568d41188bf9b3281504ee096a5f0db65b6d39e41a20f18e00ec9c21c4d9, timestep - 4\n",
      "Pool amount: GBP0.0\n",
      "ENDING PROCESS\n",
      "\n",
      "STARTING ROSCA MONTH 4\n",
      "Agent defaulted. Amount: 300.0\n",
      "Agent defaulted. Amount: 300.0\n",
      "Total deposited amount: GBP2400.0\n",
      "Not enough money in pool to allocate agent full amount of: 3000.0\n",
      "\n",
      "Allocating agent: b'\\x9a\\x82\\x937\\xaa\\xf7\\xaa\\xfc\\xd5\\x19\\x8d\\xb3\\x17\\xf4\\xe4i\\xd1\\xae\\xa5~\\xb8\\xe7\\x88\\xbd\\xeb4\\x0fKo\\x0eq\\x83j\\x89>\\x85\\xa2?\\x1f\\x18\\x92\\x07\\x01\\x1a]\\xfa[D', standing: 4, amount: GBP2400.0\n",
      "Updating circle state..\n",
      "Added block: 17, hash - 701aa3979af290083d8c3e5071d211b1ac9fdc34559fbd7253cb33c7d08f5968, prev_hash - 0f7436e0726e27cc7f8eb1032eb20e777b68a60a048f4962e78b08af42976224, timestep - 5\n",
      "Pool amount: GBP0\n",
      "ENDING PROCESS\n",
      "\n",
      "STARTING ROSCA MONTH 5\n",
      "Agent defaulted. Amount: 300.0\n",
      "Total deposited amount: GBP2700.0\n",
      "Not enough money in pool to allocate agent full amount of: 3000.0\n",
      "\n",
      "Allocating agent: b'\\x9a\\x00\\xcb\\xf0n\\rr\\x03u\\x8b\\x1f\\xa3<6\\xfe\\xe7\\xe7\\x8d\\xfb\\x1f\\x1f\\xb9`\\xdcA\\xc7\\xe6\\xff\\xde\\x03;p\\x12\\xa5\\x9b\\x9d\\xbe\\x07\\x92\\x10GU\\x8cQ\\xe6c\\xeb\\x89', standing: 5, amount: GBP2700.0\n",
      "Updating circle state..\n",
      "Added block: 18, hash - 319bf9c0290e6f1d0935d8e007633f4e9042bb9389fb1ca1e18f681055769e86, prev_hash - 701aa3979af290083d8c3e5071d211b1ac9fdc34559fbd7253cb33c7d08f5968, timestep - 6\n",
      "Pool amount: GBP0\n",
      "ENDING PROCESS\n",
      "\n",
      "STARTING ROSCA MONTH 6\n",
      "Agent defaulted. Amount: 300.0\n",
      "Total deposited amount: GBP2700.0\n",
      "Not enough money in pool to allocate agent full amount of: 3000.0\n",
      "\n",
      "Allocating agent: b'Q[.9>\\x97H\\xbej\\x8d>D\\x17\\t0\\xcbE\\xbapG\\x05?\\x06\\xbe\\xd2\\xe2%G\\xc4\\x1c0),\\x12&\\x7f\\xc8\\xf4\\n\\xddwC\\x18\\x99\\xf1\\xea\\xc3\\xb6', standing: 6, amount: GBP2700.0\n",
      "Updating circle state..\n",
      "Added block: 19, hash - 292df1a0c9ee139f4f42ccba0d200d70a420ff9ef94c55377ec17f0036864f04, prev_hash - 319bf9c0290e6f1d0935d8e007633f4e9042bb9389fb1ca1e18f681055769e86, timestep - 7\n",
      "Pool amount: GBP0\n",
      "ENDING PROCESS\n",
      "\n",
      "STARTING ROSCA MONTH 7\n",
      "Agent defaulted. Amount: 300.0\n",
      "Agent defaulted. Amount: 300.0\n",
      "Total deposited amount: GBP2400.0\n",
      "Not enough money in pool to allocate agent full amount of: 3000.0\n",
      "\n",
      "Allocating agent: b'a\\x00p\\xb0d)\\xbb>\\xcci\\x84\\x0fNF0\\xc2\\xb5\\xfcj&|\\xb3\\x0c \\x86\\xba\\'\\x07\"\\x18\\x88\\x1a+b\\xebn\\xe0\\x15I\\x94\\xcf\\n\\x8d\\xa9\\x94\\xd0\\x83V', standing: 7, amount: GBP2400.0\n",
      "Updating circle state..\n",
      "Added block: 20, hash - e6fbfe9822ad4eab9f7e4ccd32b80994fbcb4f1990cfa29ac9415615684d3159, prev_hash - 292df1a0c9ee139f4f42ccba0d200d70a420ff9ef94c55377ec17f0036864f04, timestep - 8\n",
      "Pool amount: GBP0\n",
      "ENDING PROCESS\n",
      "\n",
      "STARTING ROSCA MONTH 8\n",
      "Agent defaulted. Amount: 300.0\n",
      "Agent defaulted. Amount: 300.0\n",
      "Total deposited amount: GBP2400.0\n",
      "Not enough money in pool to allocate agent full amount of: 3000.0\n",
      "\n",
      "Allocating agent: b'\\x17}42\\x0c\\xa4\\xe3\\xfd\\xd2,\\xec~~e\\xfc\\xe3\\xbeoj>\\xc3\\xe6\\x98d\\x055\\xd0\\x16\\xd1\\x85\\xc1\\xd1\\xdbjG\\x1c\\xf0\\x85\\x1e\\xe5\\xdd\\x90\\xe9R\\xa1p\\rv', standing: 8, amount: GBP2400.0\n",
      "Updating circle state..\n",
      "Added block: 21, hash - 5748cf31adfab5798b10f07c8c0b6f27019858636885df59a4bd4863332766dc, prev_hash - e6fbfe9822ad4eab9f7e4ccd32b80994fbcb4f1990cfa29ac9415615684d3159, timestep - 9\n",
      "Pool amount: GBP0\n",
      "ENDING PROCESS\n",
      "\n",
      "STARTING ROSCA MONTH 9\n",
      "Agent defaulted. Amount: 300.0\n",
      "Total deposited amount: GBP2700.0\n",
      "Not enough money in pool to allocate agent full amount of: 3000.0\n",
      "\n",
      "Allocating agent: b'\\xec\\xec\\xcao3\\x1eY\\x921sY1k8\\xe2]p\\xbb\\x8f\\xd4\\xd1\\xad/<\\xe9D\\xf9\\x00\\xa7-\\x02\\x8c\\xaa\\xd7I\\xd9\\x85\\xf5\\xb6>1\\x7f+\\xf7B\\xde\\xa0\\x02', standing: 9, amount: GBP2700.0\n",
      "Updating circle state..\n",
      "Added block: 22, hash - aa8e23bf6d19f8a1a8d4b4cca87d2d3e41b80db2963b269274da42a6589bb9ad, prev_hash - 5748cf31adfab5798b10f07c8c0b6f27019858636885df59a4bd4863332766dc, timestep - 10\n",
      "Pool amount: GBP0\n",
      "ENDING PROCESS\n",
      "Total execution time: 5.35s\n"
     ]
    }
   ],
   "source": [
    "raw_result, tensor_field, sessions = simulation.execute()"
   ]
  },
  {
   "cell_type": "markdown",
   "metadata": {},
   "source": [
    "# 8. Simulation Output Preparation\n",
    "> The simulation results are returned as a list of Python dictionaries, which we then convert to a Pandas dataframe. At this stage of the process we'll manipulate and analyze our results to answer questions about our model."
   ]
  },
  {
   "cell_type": "code",
   "execution_count": 42,
   "metadata": {
    "scrolled": true
   },
   "outputs": [
    {
     "data": {
      "text/html": [
       "<div>\n",
       "<style scoped>\n",
       "    .dataframe tbody tr th:only-of-type {\n",
       "        vertical-align: middle;\n",
       "    }\n",
       "\n",
       "    .dataframe tbody tr th {\n",
       "        vertical-align: top;\n",
       "    }\n",
       "\n",
       "    .dataframe thead th {\n",
       "        text-align: right;\n",
       "    }\n",
       "</style>\n",
       "<table border=\"1\" class=\"dataframe\">\n",
       "  <thead>\n",
       "    <tr style=\"text-align: right;\">\n",
       "      <th></th>\n",
       "      <th>timestep</th>\n",
       "      <th>collected_amount</th>\n",
       "      <th>defaulted_amount</th>\n",
       "      <th>pool_balance</th>\n",
       "      <th>agent_default_count</th>\n",
       "    </tr>\n",
       "  </thead>\n",
       "  <tbody>\n",
       "    <tr>\n",
       "      <th>1</th>\n",
       "      <td>1</td>\n",
       "      <td>2400.0</td>\n",
       "      <td>600.0</td>\n",
       "      <td>0.0</td>\n",
       "      <td>2</td>\n",
       "    </tr>\n",
       "    <tr>\n",
       "      <th>2</th>\n",
       "      <td>2</td>\n",
       "      <td>2700.0</td>\n",
       "      <td>300.0</td>\n",
       "      <td>0.0</td>\n",
       "      <td>1</td>\n",
       "    </tr>\n",
       "    <tr>\n",
       "      <th>3</th>\n",
       "      <td>3</td>\n",
       "      <td>2700.0</td>\n",
       "      <td>300.0</td>\n",
       "      <td>0.0</td>\n",
       "      <td>1</td>\n",
       "    </tr>\n",
       "    <tr>\n",
       "      <th>4</th>\n",
       "      <td>4</td>\n",
       "      <td>3000.0</td>\n",
       "      <td>0.0</td>\n",
       "      <td>0.0</td>\n",
       "      <td>0</td>\n",
       "    </tr>\n",
       "    <tr>\n",
       "      <th>5</th>\n",
       "      <td>5</td>\n",
       "      <td>2400.0</td>\n",
       "      <td>600.0</td>\n",
       "      <td>0.0</td>\n",
       "      <td>2</td>\n",
       "    </tr>\n",
       "    <tr>\n",
       "      <th>6</th>\n",
       "      <td>6</td>\n",
       "      <td>2700.0</td>\n",
       "      <td>300.0</td>\n",
       "      <td>0.0</td>\n",
       "      <td>1</td>\n",
       "    </tr>\n",
       "    <tr>\n",
       "      <th>7</th>\n",
       "      <td>7</td>\n",
       "      <td>2700.0</td>\n",
       "      <td>300.0</td>\n",
       "      <td>0.0</td>\n",
       "      <td>1</td>\n",
       "    </tr>\n",
       "    <tr>\n",
       "      <th>8</th>\n",
       "      <td>8</td>\n",
       "      <td>2400.0</td>\n",
       "      <td>600.0</td>\n",
       "      <td>0.0</td>\n",
       "      <td>2</td>\n",
       "    </tr>\n",
       "    <tr>\n",
       "      <th>9</th>\n",
       "      <td>9</td>\n",
       "      <td>2400.0</td>\n",
       "      <td>600.0</td>\n",
       "      <td>0.0</td>\n",
       "      <td>2</td>\n",
       "    </tr>\n",
       "    <tr>\n",
       "      <th>10</th>\n",
       "      <td>10</td>\n",
       "      <td>2700.0</td>\n",
       "      <td>300.0</td>\n",
       "      <td>0.0</td>\n",
       "      <td>1</td>\n",
       "    </tr>\n",
       "  </tbody>\n",
       "</table>\n",
       "</div>"
      ],
      "text/plain": [
       "    timestep  collected_amount  defaulted_amount  pool_balance  \\\n",
       "1          1            2400.0             600.0           0.0   \n",
       "2          2            2700.0             300.0           0.0   \n",
       "3          3            2700.0             300.0           0.0   \n",
       "4          4            3000.0               0.0           0.0   \n",
       "5          5            2400.0             600.0           0.0   \n",
       "6          6            2700.0             300.0           0.0   \n",
       "7          7            2700.0             300.0           0.0   \n",
       "8          8            2400.0             600.0           0.0   \n",
       "9          9            2400.0             600.0           0.0   \n",
       "10        10            2700.0             300.0           0.0   \n",
       "\n",
       "    agent_default_count  \n",
       "1                     2  \n",
       "2                     1  \n",
       "3                     1  \n",
       "4                     0  \n",
       "5                     2  \n",
       "6                     1  \n",
       "7                     1  \n",
       "8                     2  \n",
       "9                     2  \n",
       "10                    1  "
      ]
     },
     "execution_count": 42,
     "metadata": {},
     "output_type": "execute_result"
    }
   ],
   "source": [
    "simulation_result = pd.DataFrame(raw_result)\n",
    "df = simulation_result.copy()\n",
    "\n",
    "total_amt = get_total_montly_contribution(genesis_state.data[0]['data'])\n",
    "\n",
    "balance=[] \n",
    "collected=[]\n",
    "missing=[]\n",
    "defaulted=[]\n",
    "\n",
    "for index, row in simulation_result.iterrows():\n",
    "    balance.append(row.pool_state.data[0]['balance']),\n",
    "    collected.append(row.pool_state.data[0]['collected_amt']),\n",
    "    missing.append(total_amt - row.pool_state.data[0]['collected_amt']),\n",
    "    defaulted.append(get_monthly_default_count(row.pool_state.data[0]['data']))\n",
    "    \n",
    "df['collected_amount'] = np.array(collected).tolist()\n",
    "df['defaulted_amount'] = np.array(missing).tolist()\n",
    "df['pool_balance'] = np.array(balance).tolist()\n",
    "df['agent_default_count'] = np.array(defaulted).tolist()\n",
    "df.iloc[:,5:11][1:11]"
   ]
  },
  {
   "cell_type": "markdown",
   "metadata": {},
   "source": [
    "# 9. Simulation Analysis\n",
    "  \n",
    "From the above table, we see two things; randomness in the number of times and when an agent defaults and given we've set the amount given to the agents monthly as £3000, we see the number of times an agent recieves their full payout is low compared to the number of times they don't."
   ]
  },
  {
   "cell_type": "code",
   "execution_count": 22,
   "metadata": {},
   "outputs": [
    {
     "data": {
      "text/plain": [
       "<AxesSubplot:xlabel='timestep'>"
      ]
     },
     "execution_count": 22,
     "metadata": {},
     "output_type": "execute_result"
    },
    {
     "data": {
      "image/png": "[encoded data removed]",
      "text/plain": [
       "<Figure size 432x288 with 1 Axes>"
      ]
     },
     "metadata": {
      "needs_background": "light"
     },
     "output_type": "display_data"
    }
   ],
   "source": [
    "df[df.timestep >= 1].plot(kind='line', x='timestep', y=['collected_amount','defaulted_amount'])"
   ]
  },
  {
   "cell_type": "code",
   "execution_count": 23,
   "metadata": {},
   "outputs": [
    {
     "data": {
      "text/plain": [
       "<AxesSubplot:xlabel='timestep'>"
      ]
     },
     "execution_count": 23,
     "metadata": {},
     "output_type": "execute_result"
    },
    {
     "data": {
      "image/png": "[encoded data removed]",
      "text/plain": [
       "<Figure size 432x288 with 1 Axes>"
      ]
     },
     "metadata": {
      "needs_background": "light"
     },
     "output_type": "display_data"
    }
   ],
   "source": [
    "df[df.timestep >= 1].plot(kind='line', x='timestep', y=['agent_default_count'])"
   ]
  },
  {
   "attachments": {},
   "cell_type": "markdown",
   "metadata": {},
   "source": [
    "# System Validation\n",
    "\n",
    "## Model Limitations\n",
    "1. The chance of default is set to 10% for a given agent - realistically this number is affected by a number of factors for an example: the size of prize and standing, if you have been selected to take the pooled money first without contributing any money yet.\n",
    "2. Agents in this system are not incentivised or dis-incentivised"
   ]
  },
  {
   "cell_type": "markdown",
   "metadata": {},
   "source": [
    "## Model Improvements\n",
    "\n",
    "[Requirements Analysis](#Requirements-Analysis)\n",
    "\n",
    "Looking at the requirements we set out, we have created a simple ROSCA model which presents the dynamics of a ROSCA circle on a blockchain network where participants can carry out two core actions: contributing to the pool and receiving from the pool. \n",
    "\n",
    "[Questions](#Questions)\n",
    "\n",
    "#### How can we extend this model to introduce additional complexity to more fit real world implementations?\n",
    "  * We can define specific agent behaviour and test what happens under different scenarios. Here we have randomly set a 10% chance for an agent defaulting - this can be a more precise number considering a range of factors and possible actions\n",
    "  * We can model the two types of rosca circle. Here we have modelled a 'trusted rosca circle' in which we don't assign an agent trust rating and according to this consider their 'standing' or turn to take the pot\n",
    "  * Design incentives to ensure agents behave in a way that fulfils protocol\n",
    "  * Design mechanisms outlined in Interim Report, eg: voting and borrowing, building of our core mechanisms defined here."
   ]
  },
  {
   "cell_type": "code",
   "execution_count": null,
   "metadata": {},
   "outputs": [],
   "source": []
  }
 ],
 "metadata": {
  "kernelspec": {
   "display_name": "Python 3",
   "language": "python",
   "name": "python3"
  },
  "language_info": {
   "codemirror_mode": {
    "name": "ipython",
    "version": 3
   },
   "file_extension": ".py",
   "mimetype": "text/x-python",
   "name": "python",
   "nbconvert_exporter": "python",
   "pygments_lexer": "ipython3",
   "version": "3.8.5"
  }
 },
 "nbformat": 4,
 "nbformat_minor": 4
}
