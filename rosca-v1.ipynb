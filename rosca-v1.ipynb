{
 "cells": [
  {
   "cell_type": "markdown",
   "metadata": {},
   "source": [
    "<span style=\"display:block;text-align:center;margin-right:105px\"></span>\n",
    "\n",
    "# Blockchain based ROSCA - version 1\n",
    "---\n",
    "\n",
    "* [System Requirements (Part 1)](#System-Requirements)\n",
    "  * [Model Introduction](#Model-Introduction)\n",
    "  * [cadCad Overview](#cadCad-Overview)\n",
    "  * [Requirements Analysis](#Requirements-Analysis)\n",
    "  * [Visual System Mapping: Entity Relationship Diagram](#Visual-System-Mapping:-Entity-Relationship-Diagram)\n",
    "  * [Visual System Mapping: Stock & Flow Diagram](#Visual-System-Mapping:-Stock-&-Flow-Diagram)\n",
    "  * [Mathematical Specification](#Mathematical-Specification)\n",
    "* [System Design (Part 2)](#System-Design)\n",
    "  * [Differential Specification](#Differential-Specification)\n",
    "  * [cadCAD Standard Notebook Layout](#cadCAD-Standard-Notebook-Layout)\n",
    "    0. [Dependencies](#0.-Dependencies)\n",
    "    1. [State Variables](#1.-State-Variables)\n",
    "    2. [System Parameters](#2.-System-Parameters)\n",
    "    3. [Policy Functions](#3.-Policy-Functions)\n",
    "    4. [State Update Functions](#4.-State-Update-Functions)\n",
    "    5. [Partial State Update Blocks](#5.-Partial-State-Update-Blocks)\n",
    "    6. [Configuration](#6.-Configuration)\n",
    "    7. [Execution](#7.-Execution)\n",
    "    8. [Simulation Output Preparation](#8.-Simulation-Output-Preparation)\n",
    "    9. [Simulation Analysis](#9.-Simulation-Analysis)\n",
    "* [System Validation (Part 3)](#System-Validation)\n",
    "    * [Policy Functions](#Policy-Functions)\n",
    "    * [Model Improvements](#Model-Improvements)\n",
    "      * [Differential Specification Updates](#Differential-Specification-Updates)\n",
    "      * [Mathematical Specification Updates](#Mathematical-Specification-Updates)\n",
    "    * [Model Limitations](#Model-Limitations)\n",
    "---\n",
    "\n",
    "# System Requirements\n",
    "\n",
    "## Model Introduction\n",
    "> ROSCAs are informal saving and credit institutions, whereby members pool together regular savings with are then dispersed to a member, either by random or based on the greatest need. This continues until every member has received the pot. \n",
    "\n",
    "ROSCAs are traditionally operated in small group within communities. I have found ROSCAs stand to be improved using blockchain technology - my review has demonstrated that blockchain technology certainly has the potential to create a more democratic, transparent truly peer-to-peer system. This has been proven by groups such as <a href=\"https://tlc.wetrust.io/\">WeTRUST</a> who are attempting to: `\"Create a blockchain-based Lending Circle dApp promoting financial inclusion and lay the groundwork for new financial tools for unbanked and underserved people throughout the world.\"` \n",
    "\n",
    "Having explored the profound social and economic implications of decentralized ledger technologies on ROSCAs, there is an implied pressing need for sustainable system design, which brings us to cadCad (complex adaptive dynamics Computer-aided design) which helps in designing, optimising, validating and understanding trivially non-complex, dynamical systems.\n",
    "\n",
    "## cadCad Overview\n",
    "cadCAD: Python library, assisting in the process of designing, testing and validating complex/economic systems through simulation. Allows you to ask powerful 'what-if' questions about your system, using simulation features such as A/B tests, parameter sweeps and Monte-Carlo analysis. \n",
    "\n",
    "These 'what-if' questions can concern system internal factors (eg. agent behaviours, system parameters) or system external factors (eg. market conditions, competitive activity). cadCad can model systems with various levels of abstractions from micro-level agent modelling to macro-level system dynamics.\n",
    "\n",
    "\n",
    "## Requirements Analysis\n",
    "Our goal for version 1 is to get an initial ROSCA circle running in a cadCad simulation environment. \n",
    "In this notebook, we want to: \n",
    "1. Present the dynamics of a single 'trusted' ROSCA circle on a peer-to-peer centralised network where agents share a common view of the chain \n",
    "2. Define simple strategies for agents to: intiate intial ROSCA circle, be set a contribution amount set by initiator, be allocated the pot in a random order\n",
    "3. Understand the basic space of decision making of several players in the protocol\n",
    "\n",
    "With this information, hopefully having demonstrated we can, in fact, reach our goal of `a fair, democratic, decentralised model solution of ROSCA`, we can build off of this version to implement:\n",
    "1. Neccessary mechanisms eg: voting, borrowing \n",
    "2. Design incentives\n",
    "3. Implement two types of circles (trusted & non-trusted)\n",
    "4. Understand how agent behaviours map to the incentives (rewards, penaties, general outcomes)\n",
    "5. Produce rich agent-based models\n",
    "\n",
    "### Questions\n",
    "1. What sort of mechanisms/incentives would we need to ensure agents parcipate in a way that fufils the systems goals\n",
    "2. What are the penalties to deincentivise dishonest behaviour\n",
    "3. What information is available to agents when their decisions are made\n",
    "\n",
    "\n",
    "## Visual System Mapping: Entity Relationship Diagram\n",
    "\n",
    "![Entity Relationship diagram](./images/entity.png)\n",
    "\n",
    "At its simplest, the system allows for two core actions: `a participant contributing to the pool`, and `a participant receiving from the pool`. This takes into account a participants standing within the circle.\n",
    "\n",
    "## Visual System Mapping: Stock & Flow Diagram\n",
    "\n",
    "![Stock & Flow Diagram](./images/stockflow.png)\n",
    "\n",
    "Represents and encodes the mathematical structure of a model. We identify a single stock, money pool, which gets its input from the source c, contributions from members and has a sink a, allocating to a participant in a given month.\n",
    "\n",
    "## Mathematical Specification\n",
    "\n",
    "![Math Spec](./images/spec.png)\n",
    "\n",
    "The above differential equation gives a more formal mathematical representation of the 'money pool' physical quantity. The money in the pool at a given timestep, t is equal to the amount in the previous timestep, add c, the total sum of monthly agent contribution amount, minus a, the the amount allocated to agent (their monthly contribution * duration) \n",
    "\n",
    "---\n",
    "\n",
    "# System Design\n",
    "\n",
    "## Differential Specification\n",
    "\n",
    "![Differential Spec](./images/diff.png)\n",
    "\n",
    "In the cadCAD simulation methodology, we operate on four layers: Policies, Mechanisms, States, and Metrics. \n",
    "* Policies determine the inputs into the system dynamics, and can come from user input, observations from the exogenous environment, or algorithms. \n",
    "* Mechanisms are functions that take the policy decisions and update the States to reflect the policy level changes.\n",
    "* States are variables that represent the system quantities at the given point in time \n",
    "* Metrics are computed from state variables to assess the health of the system. Metrics can often be thought of as KPIs, or Key Performance Indicators.\n",
    "\n",
    "## cadCAD Standard Notebook Layout\n",
    "<center>\n",
    "<img src=\"./images/cadcad-flow.png\"\n",
    "     alt=\"cadCAD flow\"\n",
    "     style=\"width: 25%;\" />\n",
    "</center>\n",
    "\n",
    "# 0. Dependencies"
   ]
  },
  {
   "cell_type": "code",
   "execution_count": 1,
   "metadata": {},
   "outputs": [],
   "source": [
    "# Standard libraries: https://docs.python.org/3/library/\n",
    "import math\n",
    "import secrets\n",
    "\n",
    "# Analysis and plotting modules\n",
    "import pandas as pd\n",
    "\n",
    "# Logic\n",
    "import secrets\n",
    "import base_blockchain\n",
    "from agents import (AgentData, update_contribution_amount)\n",
    "from circle import (initialise_circle_state, update_circle_state, get_total_active_balance)\n",
    "from chain import(create_block)\n",
    "from utils import (pounds_to_eth, eth_to_pounds)"
   ]
  },
  {
   "cell_type": "code",
   "execution_count": 2,
   "metadata": {},
   "outputs": [],
   "source": [
    "# cadCAD configuration modules\n",
    "from cadCAD.configuration.utils import config_sim\n",
    "from cadCAD.configuration import Experiment\n",
    "\n",
    "# cadCAD simulation engine modules\n",
    "from cadCAD.engine import ExecutionMode, ExecutionContext\n",
    "from cadCAD.engine import Executor\n",
    "\n",
    "blockchain = base_blockchain.BlockChain()"
   ]
  },
  {
   "cell_type": "markdown",
   "metadata": {},
   "source": [
    "# 1. State Variables"
   ]
  },
  {
   "cell_type": "markdown",
   "metadata": {},
   "source": [
    "> A state variable is one of the set of variables that are used to describe the mathematical \"state\" of a dynamical system. ([Wikipedia](https://en.wikipedia.org/wiki/State_variable))"
   ]
  },
  {
   "cell_type": "markdown",
   "metadata": {},
   "source": [
    "### Genesis state and genesis block\n",
    "Dynamical systems are usually rather compact to define. We need at the very least two things:\n",
    "1. Some initial state.\n",
    "2. The dynamics, or how state evolves over time.\n",
    "\n",
    "In this part i'll focus on the intial state. \n",
    "We'll create a genesis state, with 10 participants who each are set to pay 0.21 ETH (£200) into the money pool for a set term of 10 months, using a randomised turn system."
   ]
  },
  {
   "cell_type": "code",
   "execution_count": 3,
   "metadata": {},
   "outputs": [],
   "source": [
    "# Create an array of `AgentData` objects\n",
    "def get_initial_deposits(n):\n",
    "    agent = [AgentData(secrets.token_bytes(48), pounds_to_eth(300), i, 0, False, 0)\n",
    "             for i in range(n)]\n",
    "    return agent"
   ]
  },
  {
   "cell_type": "code",
   "execution_count": 4,
   "metadata": {},
   "outputs": [
    {
     "ename": "NameError",
     "evalue": "name 'circle' is not defined",
     "output_type": "error",
     "traceback": [
      "\u001b[0;31m---------------------------------------------------------------------------\u001b[0m",
      "\u001b[0;31mNameError\u001b[0m                                 Traceback (most recent call last)",
      "\u001b[0;32m<ipython-input-4-46afab00c6df>\u001b[0m in \u001b[0;36m<module>\u001b[0;34m\u001b[0m\n\u001b[1;32m      1\u001b[0m \u001b[0;31m# intialise a rosca circle\u001b[0m\u001b[0;34m\u001b[0m\u001b[0;34m\u001b[0m\u001b[0;34m\u001b[0m\u001b[0m\n\u001b[0;32m----> 2\u001b[0;31m \u001b[0mcircle_\u001b[0m \u001b[0;34m=\u001b[0m \u001b[0mcircle\u001b[0m\u001b[0;34m.\u001b[0m\u001b[0minitialise_circle_state\u001b[0m\u001b[0;34m(\u001b[0m\u001b[0;34m\"Hudas saving circle :)\"\u001b[0m\u001b[0;34m,\u001b[0m \u001b[0mget_initial_deposits\u001b[0m\u001b[0;34m(\u001b[0m\u001b[0;36m10\u001b[0m\u001b[0;34m)\u001b[0m\u001b[0;34m)\u001b[0m\u001b[0;34m\u001b[0m\u001b[0;34m\u001b[0m\u001b[0m\n\u001b[0m",
      "\u001b[0;31mNameError\u001b[0m: name 'circle' is not defined"
     ]
    }
   ],
   "source": [
    "# intialise a rosca circle \n",
    "circle_ = initialise_circle_state(\"Hudas saving circle :)\", get_initial_deposits(10))"
   ]
  },
  {
   "cell_type": "code",
   "execution_count": null,
   "metadata": {},
   "outputs": [],
   "source": [
    "# create initial block for the groups blockchain\n",
    "genesis_state = create_block(circle_)"
   ]
  },
  {
   "cell_type": "markdown",
   "metadata": {},
   "source": [
    "\n",
    "![Code Layout](./images/layout.png)\n",
    "Now we have create our rosca circle and have processed a genesis block, with the code workflow above for clarity. Finally, we set the genesis state as the initial condition to our cadCAD execution"
   ]
  },
  {
   "cell_type": "code",
   "execution_count": null,
   "metadata": {},
   "outputs": [],
   "source": [
    "initial_conditions = {\n",
    "    'pool_state': genesis_state\n",
    "}"
   ]
  },
  {
   "cell_type": "markdown",
   "metadata": {},
   "source": [
    "## **Time** as a system state\n",
    "* 1 **timestep** == 1 month"
   ]
  },
  {
   "cell_type": "markdown",
   "metadata": {},
   "source": [
    "# 2. System Parameters\n",
    "> System parameterization is the process of choosing variables that impact the behaviour of the model. These parameters allow us to perform simulation techniques like parameter sweeps, Monte Carlo simulations, A/B tests, and see how the system behaves under a different model parameter set."
   ]
  },
  {
   "cell_type": "code",
   "execution_count": null,
   "metadata": {},
   "outputs": [],
   "source": [
    "system_params = {\n",
    "    'duration': [10], # duration of rosca circle\n",
    "}\n",
    "system_params"
   ]
  },
  {
   "cell_type": "markdown",
   "metadata": {},
   "source": [
    "# 3. Policy Functions\n",
    "\n",
    "> A Policy Function computes one or more signals to be passed to State Update Functions. They describe the logic  and behaviour of a system component  or mechanism."
   ]
  },
  {
   "cell_type": "markdown",
   "metadata": {},
   "source": [
    "# 4. State Update Functions\n",
    "> We create State Update Functions to design the way our model state changes over time. These will usually represent the system differential specification.\n",
    "\n",
    "```python\n",
    "def state_update_function(params, substep, state_history, previous_state, policy_input):\n",
    "    variable_value = 0\n",
    "    return 'variable_name', variable_value\n",
    "```\n",
    "\n",
    "* `params` is a Python dictionary containing the **system parameters** <!-- for consistency with the previous definition -->\n",
    "* `substep` is an integer value representing a step within a single `timestep`\n",
    "* `state_history` is a Python list of all previous states\n",
    "* `previous_state` is a Python dictionary that defines what the state of the system was at the **previous timestep** or **substep**\n",
    "* `policy_input` is a Python dictionary of signals or actions from **policy functions**"
   ]
  },
  {
   "cell_type": "markdown",
   "metadata": {},
   "source": [
    "### State evolution with block proposals\n",
    "We can now move on to defining the dynamics. Simple dynamical systems follow some rules to update their state, e.g., the orbits of planets are given by laws derived from attraction. More complex systems are controlled: decisions made by agents in the system influence the state evolution.\n",
    "\n",
    "In our setting, these agents are ROSCA participants. State evolution is governed by the rules set out by the system, while participants get to decide on putting in a transaction or defaulting. The resulting state is a combination of agent decisions and state updates. How participants make these decisions is embodied by policy functions: given a state, make a decision.\n",
    "\n",
    "At the start of the process, the `genesis_state` defined above is `M(t-1)`, to update the state of the moneypool to `M(t)` we need to calculate `c - the amount collected from agents` and `α - the amount which is allocated`. We break this down into 3 steps:"
   ]
  },
  {
   "cell_type": "markdown",
   "metadata": {},
   "source": [
    "#### 1. Initiate monthly collections from each agent in the rosca circle"
   ]
  },
  {
   "cell_type": "code",
   "execution_count": null,
   "metadata": {},
   "outputs": [],
   "source": [
    "# initate monthly contributions\n",
    "def intitiate_monthly_deposits(genesis_state):\n",
    "    month_sum = 0.0\n",
    "    block_agent_data = genesis_state.data[0]['data']\n",
    "\n",
    "    for x in range(0, len(block_agent_data)):\n",
    "        agent_contribution = float(block_agent_data[x].amount)\n",
    "        month_sum += eth_to_pounds(agent_contribution) # c - from differential eq\n",
    "        block_agent_data[x].contributed_amt += agent_contribution # update agent contributed amount\n",
    "\n",
    "    print(\"Deposited amount: GBP\" + str(month_sum))\n",
    "    return month_sum    # todo: validate sum at later stage"
   ]
  },
  {
   "cell_type": "markdown",
   "metadata": {},
   "source": [
    "#### 2. Allocate pool to agent according to standing within the circle "
   ]
  },
  {
   "cell_type": "code",
   "execution_count": null,
   "metadata": {},
   "outputs": [],
   "source": [
    "# Allocate to agent according to standing\n",
    "def allocate_pool(genesis_state, timestep, duration):\n",
    "    block_agent_data = genesis_state.data[0]['data']\n",
    "    pool_amount = intitiate_monthly_deposits(genesis_state)\n",
    "\n",
    "    for x in range(0, len(block_agent_data)):\n",
    "        if(block_agent_data[x].standing == timestep and block_agent_data[x].taken == False):\n",
    "            allocation_amt = (duration*block_agent_data[x].amount) # a - from differential eq\n",
    "            block_agent_data[x].balance += allocation_amt\n",
    "            block_agent_data[x].taken = True\n",
    "            print(\"Allocating agent: \" + str(block_agent_data[x].pubkey) + \" amount: ETH\" + str(allocation_amt))\n",
    "            pool_amount -= eth_to_pounds(allocation_amt)\n",
    "    return pool_amount"
   ]
  },
  {
   "cell_type": "markdown",
   "metadata": {},
   "source": [
    "#### 3. Update state of circle and proccess and add block"
   ]
  },
  {
   "cell_type": "code",
   "execution_count": null,
   "metadata": {},
   "outputs": [],
   "source": [
    "def new_pool_state(genesis_state, timestep, duration):    \n",
    "    updateCircle_ = update_circle_state(genesis_state.data[0]['name'], timestep+1, allocate_pool(genesis_state, timestep, duration), genesis_state.data[0]['data'])\n",
    "    new_block = create_block(updateCircle_) # create block\n",
    "    print(\"Pool amount: GBP\" + str(get_total_active_balance(updateCircle_)))\n",
    "    \n",
    "    return updateCircle_"
   ]
  },
  {
   "cell_type": "code",
   "execution_count": null,
   "metadata": {},
   "outputs": [],
   "source": [
    "# Relevant state variables\n",
    "current_pool_state = initial_conditions['pool_state']\n",
    "\n",
    "# Relevant parameters\n",
    "duration = system_params['duration'][0] #  from \"alpha\" in our differential equation\n",
    "\n",
    "new_state = new_pool_state(current_pool_state, 1, duration)"
   ]
  },
  {
   "cell_type": "code",
   "execution_count": null,
   "metadata": {},
   "outputs": [],
   "source": [
    "def s_pool(params, substep, state_history, previous_state, policy_input):\n",
    "    \"\"\"\n",
    "    Update the pool state according to the differential equation (1):\n",
    "    current_pool_state + collected_amount - allocation_amount\n",
    "    \"\"\"\n",
    "    pool = previous_state['pool_state']\n",
    "    duration = params['duration']\n",
    "    \n",
    "    return 'pool_state', new_pool_state(pool, substep, duration)"
   ]
  },
  {
   "cell_type": "code",
   "execution_count": null,
   "metadata": {},
   "outputs": [],
   "source": [
    "next_state = {\n",
    "    'pool_state': new_state\n",
    "}\n",
    "next_state"
   ]
  },
  {
   "cell_type": "markdown",
   "metadata": {},
   "source": [
    "# 5. Partial State Update Blocks\n",
    "> A series of Partial State Update Blocks is a structure for composing State Update Functions and Policy Functions in series or parallel, as a representation of the system model. "
   ]
  },
  {
   "cell_type": "markdown",
   "metadata": {},
   "source": [
    "<center>\n",
    "<img src=\"./images/basic-psub.png\"\n",
    "     alt=\"Policy functions\"\n",
    "     style=\"width: 60%;\" />\n",
    "</center>"
   ]
  },
  {
   "cell_type": "code",
   "execution_count": null,
   "metadata": {},
   "outputs": [],
   "source": [
    "partial_state_update_blocks = [\n",
    "    {\n",
    "        'policies': {}, # Ignore for now\n",
    "        # State variables\n",
    "        'variables': {\n",
    "            # Updated in parallel\n",
    "            'pool_state': s_pool,\n",
    "        }\n",
    "    }\n",
    "]"
   ]
  },
  {
   "cell_type": "markdown",
   "metadata": {},
   "source": [
    "# 6. Configuration\n",
    "> The configuration stage is about tying all the previous model components together and choosing how the simulation should run.\n",
    "\n",
    "![Flow](./images/cadflow2.png)"
   ]
  },
  {
   "cell_type": "markdown",
   "metadata": {},
   "source": [
    "Configuration parameters:\n",
    "* `'N': 1` - the number of times we'll run the simulation (you'll see them called \"Monte Carlo runs\" later in the course, when we look at tools to analyze system models)\n",
    "* `'T': range(400)` - the number of timesteps the simulation will run for\n",
    "* `'M': system_params` - the parameters of the system"
   ]
  },
  {
   "cell_type": "code",
   "execution_count": null,
   "metadata": {},
   "outputs": [],
   "source": [
    "sim_config = config_sim({\n",
    "    \"N\": 1,\n",
    "    \"T\": range(10),\n",
    "    \"M\": system_params\n",
    "})"
   ]
  },
  {
   "cell_type": "code",
   "execution_count": null,
   "metadata": {},
   "outputs": [],
   "source": [
    "from cadCAD import configs\n",
    "del configs[:] # Clear any prior configs"
   ]
  },
  {
   "cell_type": "code",
   "execution_count": null,
   "metadata": {},
   "outputs": [],
   "source": [
    "experiment = Experiment()\n",
    "experiment.append_configs(\n",
    "    initial_state = initial_conditions,\n",
    "    partial_state_update_blocks = partial_state_update_blocks,\n",
    "    sim_configs = sim_config\n",
    ")\n",
    "configs[-1].__dict__"
   ]
  },
  {
   "cell_type": "markdown",
   "metadata": {},
   "source": [
    "# 7. Execution\n",
    "\n",
    "> The Execution Engine takes a model and configuration, and computes the simulation output.\n",
    "\n",
    "## Configuring the cadCAD simulation execution"
   ]
  },
  {
   "cell_type": "code",
   "execution_count": null,
   "metadata": {},
   "outputs": [],
   "source": [
    "exec_context = ExecutionContext()"
   ]
  },
  {
   "cell_type": "code",
   "execution_count": null,
   "metadata": {},
   "outputs": [],
   "source": [
    "simulation = Executor(exec_context=exec_context, configs=configs)"
   ]
  },
  {
   "cell_type": "markdown",
   "metadata": {},
   "source": [
    "## We can now simulate our ecosystem model!"
   ]
  },
  {
   "cell_type": "code",
   "execution_count": 5,
   "metadata": {},
   "outputs": [
    {
     "ename": "NameError",
     "evalue": "name 'config' is not defined",
     "output_type": "error",
     "traceback": [
      "\u001b[0;31m---------------------------------------------------------------------------\u001b[0m",
      "\u001b[0;31mNameError\u001b[0m                                 Traceback (most recent call last)",
      "\u001b[0;32m<ipython-input-5-fd791bb079bf>\u001b[0m in \u001b[0;36m<module>\u001b[0;34m\u001b[0m\n\u001b[1;32m      1\u001b[0m \u001b[0mexec_mode\u001b[0m \u001b[0;34m=\u001b[0m \u001b[0mExecutionMode\u001b[0m\u001b[0;34m(\u001b[0m\u001b[0;34m)\u001b[0m\u001b[0;34m\u001b[0m\u001b[0;34m\u001b[0m\u001b[0m\n\u001b[1;32m      2\u001b[0m \u001b[0mexec_context\u001b[0m \u001b[0;34m=\u001b[0m \u001b[0mExecutionContext\u001b[0m\u001b[0;34m(\u001b[0m\u001b[0mexec_mode\u001b[0m\u001b[0;34m.\u001b[0m\u001b[0msingle_proc\u001b[0m\u001b[0;34m)\u001b[0m\u001b[0;34m\u001b[0m\u001b[0;34m\u001b[0m\u001b[0m\n\u001b[0;32m----> 3\u001b[0;31m \u001b[0mexecutor\u001b[0m \u001b[0;34m=\u001b[0m \u001b[0mExecutor\u001b[0m\u001b[0;34m(\u001b[0m\u001b[0mexec_context\u001b[0m\u001b[0;34m,\u001b[0m \u001b[0;34m[\u001b[0m\u001b[0mconfig\u001b[0m\u001b[0;34m]\u001b[0m\u001b[0;34m)\u001b[0m \u001b[0;31m# Pass the configuration object inside an array\u001b[0m\u001b[0;34m\u001b[0m\u001b[0;34m\u001b[0m\u001b[0m\n\u001b[0m\u001b[1;32m      4\u001b[0m \u001b[0mraw_result\u001b[0m\u001b[0;34m,\u001b[0m \u001b[0mtensor\u001b[0m \u001b[0;34m=\u001b[0m \u001b[0mexecutor\u001b[0m\u001b[0;34m.\u001b[0m\u001b[0mexecute\u001b[0m\u001b[0;34m(\u001b[0m\u001b[0;34m)\u001b[0m \u001b[0;31m# The `execute()` method returns a tuple; its first elements contains the raw results\u001b[0m\u001b[0;34m\u001b[0m\u001b[0;34m\u001b[0m\u001b[0m\n\u001b[1;32m      5\u001b[0m \u001b[0mdf\u001b[0m \u001b[0;34m=\u001b[0m \u001b[0mpd\u001b[0m\u001b[0;34m.\u001b[0m\u001b[0mDataFrame\u001b[0m\u001b[0;34m(\u001b[0m\u001b[0mraw_result\u001b[0m\u001b[0;34m)\u001b[0m\u001b[0;34m\u001b[0m\u001b[0;34m\u001b[0m\u001b[0m\n",
      "\u001b[0;31mNameError\u001b[0m: name 'config' is not defined"
     ]
    }
   ],
   "source": [
    "raw_result, tensor_field, sessions = simulation.execute()"
   ]
  },
  {
   "cell_type": "markdown",
   "metadata": {},
   "source": [
    "# 8. Simulation Output Preparation\n",
    "> The simulation results are returned as a list of Python dictionaries, which we then convert to a Pandas dataframe. At this stage of the process you'll manipulate and analyze your results to answer questions about your model."
   ]
  },
  {
   "cell_type": "code",
   "execution_count": null,
   "metadata": {},
   "outputs": [],
   "source": [
    "simulation_result = pd.DataFrame(raw_result)"
   ]
  },
  {
   "cell_type": "code",
   "execution_count": null,
   "metadata": {},
   "outputs": [],
   "source": [
    "raw_result[:5]"
   ]
  },
  {
   "cell_type": "code",
   "execution_count": null,
   "metadata": {},
   "outputs": [],
   "source": [
    "simulation_result.head()"
   ]
  },
  {
   "cell_type": "markdown",
   "metadata": {},
   "source": [
    "# 9. Simulation Analysis"
   ]
  },
  {
   "cell_type": "code",
   "execution_count": null,
   "metadata": {},
   "outputs": [],
   "source": []
  }
 ],
 "metadata": {
  "kernelspec": {
   "display_name": "Python 3",
   "language": "python",
   "name": "python3"
  },
  "language_info": {
   "codemirror_mode": {
    "name": "ipython",
    "version": 3
   },
   "file_extension": ".py",
   "mimetype": "text/x-python",
   "name": "python",
   "nbconvert_exporter": "python",
   "pygments_lexer": "ipython3",
   "version": "3.8.5"
  }
 },
 "nbformat": 4,
 "nbformat_minor": 4
}
